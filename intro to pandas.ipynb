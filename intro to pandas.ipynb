{
 "cells": [
  {
   "cell_type": "markdown",
   "id": "ff8172a8-81d6-4268-aa3e-c6a0d2cd69b6",
   "metadata": {},
   "source": [
    "# Working with pandas"
   ]
  },
  {
   "cell_type": "code",
   "execution_count": 3,
   "id": "6f2117dc-8691-4292-8e8e-8df943195da4",
   "metadata": {},
   "outputs": [],
   "source": [
    "import pandas as pd\n",
    "import numpy as np"
   ]
  },
  {
   "cell_type": "markdown",
   "id": "33378f9d-d82f-4ef9-b516-64268958546c",
   "metadata": {},
   "source": [
    "## pands series"
   ]
  },
  {
   "cell_type": "markdown",
   "id": "22e8e204-8b6d-4471-a80e-c96b3cba4336",
   "metadata": {},
   "source": [
    "We'll starting analysing \"The Group of Seven\".Which is a political formed by Canada,France,Germany,Italy,Japan,The United kingdom & The United States.We'll start analysing the population,and for that,we'll use Pandas.Series object."
   ]
  },
  {
   "cell_type": "code",
   "execution_count": 4,
   "id": "3434cd9d-d9c8-4ab5-a344-2c9da0a9be93",
   "metadata": {},
   "outputs": [],
   "source": [
    "# In Million\n",
    "g7_pop=pd.Series([35.467,63.951,80.940,60.665,127.061,64.511,318.523])"
   ]
  },
  {
   "cell_type": "code",
   "execution_count": 5,
   "id": "35fc6d78-077f-4234-b7b8-0852638696bc",
   "metadata": {},
   "outputs": [
    {
     "data": {
      "text/plain": [
       "0     35.467\n",
       "1     63.951\n",
       "2     80.940\n",
       "3     60.665\n",
       "4    127.061\n",
       "5     64.511\n",
       "6    318.523\n",
       "dtype: float64"
      ]
     },
     "execution_count": 5,
     "metadata": {},
     "output_type": "execute_result"
    }
   ],
   "source": [
    "g7_pop"
   ]
  },
  {
   "cell_type": "code",
   "execution_count": 6,
   "id": "ceca276b-c904-4476-9b3a-7783ce9fb984",
   "metadata": {},
   "outputs": [],
   "source": [
    "g7_pop.name = \"G7 population in millions.\""
   ]
  },
  {
   "cell_type": "code",
   "execution_count": 7,
   "id": "330bad1a-1b9b-48b6-863e-cafc8edcfbd9",
   "metadata": {},
   "outputs": [
    {
     "data": {
      "text/plain": [
       "0     35.467\n",
       "1     63.951\n",
       "2     80.940\n",
       "3     60.665\n",
       "4    127.061\n",
       "5     64.511\n",
       "6    318.523\n",
       "Name: G7 population in millions., dtype: float64"
      ]
     },
     "execution_count": 7,
     "metadata": {},
     "output_type": "execute_result"
    }
   ],
   "source": [
    "g7_pop"
   ]
  },
  {
   "cell_type": "code",
   "execution_count": 8,
   "id": "77ddad02-27f6-4414-aac8-6defdba69ed8",
   "metadata": {},
   "outputs": [
    {
     "data": {
      "text/plain": [
       "dtype('float64')"
      ]
     },
     "execution_count": 8,
     "metadata": {},
     "output_type": "execute_result"
    }
   ],
   "source": [
    "g7_pop.dtype"
   ]
  },
  {
   "cell_type": "code",
   "execution_count": 9,
   "id": "4499c610-4815-4bcc-8c80-560f91bfdeac",
   "metadata": {},
   "outputs": [
    {
     "data": {
      "text/plain": [
       "array([ 35.467,  63.951,  80.94 ,  60.665, 127.061,  64.511, 318.523])"
      ]
     },
     "execution_count": 9,
     "metadata": {},
     "output_type": "execute_result"
    }
   ],
   "source": [
    "g7_pop.values"
   ]
  },
  {
   "cell_type": "code",
   "execution_count": 10,
   "id": "ba6e597a-94e4-4bfc-8a6e-9f26a798ba98",
   "metadata": {},
   "outputs": [
    {
     "data": {
      "text/plain": [
       "numpy.ndarray"
      ]
     },
     "execution_count": 10,
     "metadata": {},
     "output_type": "execute_result"
    }
   ],
   "source": [
    "type(g7_pop.values)"
   ]
  },
  {
   "cell_type": "code",
   "execution_count": 11,
   "id": "3c9d9d20-cee6-4521-bc4d-5b61a97486e2",
   "metadata": {},
   "outputs": [],
   "source": [
    "g7_pop.index = [\n",
    "    'Canada',\n",
    "    'France',\n",
    "    'Germany',\n",
    "    'Italy',\n",
    "    'Japan',\n",
    "    'United Kingdom',\n",
    "    'United States',\n",
    "]\n",
    "    "
   ]
  },
  {
   "cell_type": "code",
   "execution_count": 12,
   "id": "0ec7380d-8d54-4d31-b10c-a843e83e3877",
   "metadata": {},
   "outputs": [
    {
     "data": {
      "text/plain": [
       "Canada             35.467\n",
       "France             63.951\n",
       "Germany            80.940\n",
       "Italy              60.665\n",
       "Japan             127.061\n",
       "United Kingdom     64.511\n",
       "United States     318.523\n",
       "Name: G7 population in millions., dtype: float64"
      ]
     },
     "execution_count": 12,
     "metadata": {},
     "output_type": "execute_result"
    }
   ],
   "source": [
    "g7_pop"
   ]
  },
  {
   "cell_type": "code",
   "execution_count": 13,
   "id": "596c90bb-71f3-404a-9178-363fceb571a8",
   "metadata": {},
   "outputs": [
    {
     "data": {
      "text/plain": [
       "Canada            False\n",
       "France            False\n",
       "Germany            True\n",
       "Italy             False\n",
       "Japan              True\n",
       "United Kingdom    False\n",
       "United States      True\n",
       "Name: G7 population in millions., dtype: bool"
      ]
     },
     "execution_count": 13,
     "metadata": {},
     "output_type": "execute_result"
    }
   ],
   "source": [
    "g7_pop>70"
   ]
  },
  {
   "cell_type": "code",
   "execution_count": 15,
   "id": "1a478bf5-d674-4fcf-96af-693135756cfe",
   "metadata": {},
   "outputs": [
    {
     "data": {
      "text/plain": [
       "35.467"
      ]
     },
     "execution_count": 15,
     "metadata": {},
     "output_type": "execute_result"
    }
   ],
   "source": [
    "g7_pop['Canada'] #in order to get the info's from indivisual values assigned to different indexxes."
   ]
  },
  {
   "cell_type": "code",
   "execution_count": 16,
   "id": "6837e0de-3667-4d36-8c73-0e86a42242bc",
   "metadata": {},
   "outputs": [],
   "source": [
    "l = ['a','b','c']"
   ]
  },
  {
   "cell_type": "code",
   "execution_count": 17,
   "id": "f4957238-96e2-4620-a3a7-188e20d73172",
   "metadata": {},
   "outputs": [
    {
     "data": {
      "text/plain": [
       "['a', 'b', 'c']"
      ]
     },
     "execution_count": 17,
     "metadata": {},
     "output_type": "execute_result"
    }
   ],
   "source": [
    "l"
   ]
  },
  {
   "cell_type": "code",
   "execution_count": 18,
   "id": "1053ed7a-bcd4-4577-ab5a-30562af58222",
   "metadata": {},
   "outputs": [
    {
     "data": {
      "text/plain": [
       "['a', 'b']"
      ]
     },
     "execution_count": 18,
     "metadata": {},
     "output_type": "execute_result"
    }
   ],
   "source": [
    "l[:2]"
   ]
  },
  {
   "cell_type": "code",
   "execution_count": null,
   "id": "763420e4-e8d4-4d0e-b932-f59822e09283",
   "metadata": {},
   "outputs": [],
   "source": []
  }
 ],
 "metadata": {
  "kernelspec": {
   "display_name": "Python 3 (ipykernel)",
   "language": "python",
   "name": "python3"
  },
  "language_info": {
   "codemirror_mode": {
    "name": "ipython",
    "version": 3
   },
   "file_extension": ".py",
   "mimetype": "text/x-python",
   "name": "python",
   "nbconvert_exporter": "python",
   "pygments_lexer": "ipython3",
   "version": "3.11.2"
  }
 },
 "nbformat": 4,
 "nbformat_minor": 5
}
