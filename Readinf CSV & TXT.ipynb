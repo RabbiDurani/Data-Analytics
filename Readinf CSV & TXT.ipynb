{
 "cells": [
  {
   "cell_type": "markdown",
   "id": "1af1b0c0-a431-4406-ae6b-ce725a83fe10",
   "metadata": {},
   "source": [
    "# Reading CSV and TXT files"
   ]
  },
  {
   "cell_type": "raw",
   "id": "b8f24fd6-bd18-4bcf-87a3-eb0f5cdea1cd",
   "metadata": {},
   "source": [
    "Rather than creating \"Series\" of \"DataFrames\" structure s from scratch, or even from python core sequences or \"ndarrays\", the most typical use of pandas is based on the loading of ingormation from files or sources of informatoion for further exploration,transformation and analysis."
   ]
  },
  {
   "cell_type": "raw",
   "id": "6fdd9b0e-07f6-46a3-aab2-68aa0bd5023a",
   "metadata": {},
   "source": [
    "In this lecture we'll learn how to read comma-separated values files (.csv) and raw text files (.txt) into pandas DataFrame's."
   ]
  },
  {
   "cell_type": "code",
   "execution_count": 1,
   "id": "3b0f0a3c-c5b9-4fd4-9835-f6c6c41343e2",
   "metadata": {},
   "outputs": [],
   "source": [
    "import pandas as pd\n",
    "import numpy as np\n",
    "import  csv"
   ]
  },
  {
   "cell_type": "markdown",
   "id": "cce0e040-ee81-4517-8a5a-de40d538ae04",
   "metadata": {},
   "source": [
    "## Reading data with Python"
   ]
  },
  {
   "cell_type": "raw",
   "id": "0eccd551-3593-49d2-9682-fff5911210c9",
   "metadata": {},
   "source": [
    "As we saw on previous courses we can read data simply using Python."
   ]
  },
  {
   "cell_type": "raw",
   "id": "9fb565fa-1761-47ba-81c9-55ba1cc7dcfe",
   "metadata": {},
   "source": [
    "When you want to work with a file,the first thing to do is to open it.That is done by invoking the \"open()\" built-in function. "
   ]
  },
  {
   "cell_type": "raw",
   "id": "224e7c3e-54d0-47ae-93d9-610f65470d47",
   "metadata": {},
   "source": [
    "\"open()\" has a single required argument thett is the path to the file and has a single return,the file object."
   ]
  },
  {
   "cell_type": "raw",
   "id": "22072780-1e4f-4d57-a75e-80b7b14f8501",
   "metadata": {},
   "source": [
    "The \"with\" statement automatically takes care of closing the file once it leaves the \"with\" block, even in cases of error."
   ]
  },
  {
   "cell_type": "code",
   "execution_count": 2,
   "id": "4905cbc1-a8a6-48c1-bd28-8c5d3f8c46ba",
   "metadata": {},
   "outputs": [
    {
     "name": "stdout",
     "output_type": "stream",
     "text": [
      "<_io.TextIOWrapper name='btc-market-price.csv' mode='r' encoding='cp1252'>\n"
     ]
    }
   ],
   "source": [
    "filepath='btc-market-price.csv'\n",
    "with open(filepath,'r')as reader:\n",
    "    print(reader)"
   ]
  },
  {
   "cell_type": "raw",
   "id": "61e1d72a-63d5-4e1d-9ad0-246ca79d0cc1",
   "metadata": {},
   "source": [
    "Once the file is opened,we can read its content as follows:"
   ]
  },
  {
   "cell_type": "code",
   "execution_count": 3,
   "id": "3a1ad9b1-04b9-4577-a077-6af907e8dd63",
   "metadata": {},
   "outputs": [
    {
     "name": "stdout",
     "output_type": "stream",
     "text": [
      "0 2/4/17 0:00,1099.169125\n",
      "\n",
      "1 3/4/17 0:00,1141.813\n",
      "\n",
      "2 4/4/17 0:00,?\n",
      "\n",
      "3 5/4/17 0:00,1133.079314\n",
      "\n",
      "4 6/4/17 0:00,-\n",
      "\n",
      "5 7/4/17 0:00,-\n",
      "\n",
      "6 8/4/17 0:00,1181.149838\n",
      "\n",
      "7 9/4/17 0:00,1208.8005\n",
      "\n",
      "8 10/4/17 0:00,1207.744875\n",
      "\n",
      "9 11/4/17 0:00,1226.617038\n",
      "\n"
     ]
    }
   ],
   "source": [
    "filepath='btc-market-price.csv'\n",
    "with open(filepath,'r')as reader:\n",
    "    for index, line in enumerate(reader.readlines()):\n",
    "      # read just the first 10 lines\n",
    "     if(index<10):\n",
    "        print(index,line)"
   ]
  },
  {
   "cell_type": "markdown",
   "id": "38b247ff-c563-4bf3-9562-fdeb25c420d4",
   "metadata": {},
   "source": [
    "## Reading Data With Pandas"
   ]
  },
  {
   "cell_type": "raw",
   "id": "5d5b16a7-c4d9-47e0-bdde-fa850fe8d0de",
   "metadata": {},
   "source": [
    "Probably one of the most recurrent types of work for data analysis: Public data sources,logs,historical information tables,exports from databases.So the pandas library offers us functions to read and write files in multiple formats like CSV,JSON,XML and Excel's,XLsx, all of them creating a \"DataFrame\" with the information read from the file."
   ]
  },
  {
   "cell_type": "raw",
   "id": "10db0562-eb13-4d6b-8ccf-3a16c9fcdaa7",
   "metadata": {},
   "source": [
    "We'll learn how to read different types of data including :"
   ]
  },
  {
   "cell_type": "raw",
   "id": "c4b4274a-4551-4a9b-b1d6-90f655b6bef9",
   "metadata": {},
   "source": [
    "# CSV files (.csv)"
   ]
  },
  {
   "cell_type": "raw",
   "id": "1245ec43-e16b-4c86-9ef2-2c10d8a05542",
   "metadata": {},
   "source": [
    "# Raw text files (.txt)"
   ]
  },
  {
   "cell_type": "raw",
   "id": "377e6484-43d4-42fe-9ba3-1f11b3d1132c",
   "metadata": {},
   "source": [
    "# JSON data from a file and from an API"
   ]
  },
  {
   "cell_type": "raw",
   "id": "9259adff-45c9-497e-b880-c6a2fb0d3a0c",
   "metadata": {},
   "source": [
    "# Data from a SQL query over a database"
   ]
  },
  {
   "cell_type": "markdown",
   "id": "e1d2dfff-6295-4ca2-b93e-4c005d260499",
   "metadata": {},
   "source": [
    "## The read_csv method"
   ]
  },
  {
   "cell_type": "raw",
   "id": "c42dd806-c09e-4587-b5ac-d9b7f8fb8b5d",
   "metadata": {},
   "source": [
    "the first method we'll learn is read_csv, that let us read comma-separated values (CSV) files and raw text (TXT) files into a DataFrame ."
   ]
  },
  {
   "cell_type": "raw",
   "id": "ac9d7c44-dcf8-4c1c-954d-3ecb8f573e99",
   "metadata": {},
   "source": [
    "The \"read_csv\" function is extreamly powerful and you can specify a very broad set of parameters at import time that allow us to accurately confiigure how the data will be read and parsed by specifying the correct structure,encoding and other details.The most common parameters are as follows:"
   ]
  },
  {
   "cell_type": "raw",
   "id": "33d5897a-8a30-4465-9197-916925a4282a",
   "metadata": {},
   "source": [
    "# \"filepath\": Path of the file to be read."
   ]
  },
  {
   "cell_type": "raw",
   "id": "51d2c031-a49a-4733-8aa2-469a0db3bb6b",
   "metadata": {},
   "source": [
    "# \"sep\": Character(s) that are used as a field separator in the file."
   ]
  },
  {
   "cell_type": "raw",
   "id": "4726b6d7-3099-4138-8b24-83bd63f63d3d",
   "metadata": {},
   "source": [
    "# \"header\": Index of the row containing the names of the columns (None if none)."
   ]
  },
  {
   "cell_type": "raw",
   "id": "f30831b1-2cf4-4ed4-a0a2-ca159764a6e5",
   "metadata": {},
   "source": [
    "# \"index_col\": index of the column or sequence of indexes that should be used as index of rows of the data."
   ]
  },
  {
   "cell_type": "raw",
   "id": "e50f896d-c871-4f06-b1eb-84c4db743eea",
   "metadata": {},
   "source": [
    "# \"names\": Sequence containing the names of the columns(used together with header=None)."
   ]
  },
  {
   "cell_type": "raw",
   "id": "ac98a43a-0495-4775-831e-b3c62a0e3652",
   "metadata": {},
   "source": [
    "# \"skiprows\": Number of rows or sequence of row indexes to ignore in the load."
   ]
  },
  {
   "cell_type": "raw",
   "id": "d2b0cf48-6f7a-4b57-a564-9ec01c17c91f",
   "metadata": {},
   "source": [
    "# \"na_vlaues\": Sequence of values that ,if found in the file, should'be treated as NaN."
   ]
  },
  {
   "cell_type": "raw",
   "id": "a8707cb9-f15e-4681-9523-089110adaaa8",
   "metadata": {},
   "source": [
    "# \"dtypes\": Dictionary in which the keys will be column names and the values wil be types of NumPy to to which their content must'be converted."
   ]
  },
  {
   "cell_type": "raw",
   "id": "2c79da03-1014-42a4-b1d4-50d500d5df33",
   "metadata": {},
   "source": [
    "# \"parse_dates\": Flag that indcates if Python should try to parse data with a format similar to dates as dates.You can enter a list of column names that must be joined for the parsing as a date."
   ]
  },
  {
   "cell_type": "raw",
   "id": "0f4d8196-c95d-46ac-9f7c-63fde8bd782b",
   "metadata": {},
   "source": [
    "# \"date_parser\": Function to use to try to parse dates."
   ]
  },
  {
   "cell_type": "raw",
   "id": "b9f94ef9-b570-4cee-a7d2-d105e3dc93d1",
   "metadata": {},
   "source": [
    "# \"nrows\": Number of rows to read from the beginning of the file."
   ]
  },
  {
   "cell_type": "raw",
   "id": "dde9a495-0815-4a96-b980-1a622cdf9e53",
   "metadata": {},
   "source": [
    "# \"skip_footer\": Number of rows to ignore at the end of the file."
   ]
  },
  {
   "cell_type": "raw",
   "id": "91f81160-5516-4d1e-b088-d46b3b9c4d70",
   "metadata": {},
   "source": [
    "# \"encoding\": Encoding to be expected from the file read."
   ]
  },
  {
   "cell_type": "raw",
   "id": "52304cca-6c5a-4f7d-b518-fa11d0b4d3e5",
   "metadata": {},
   "source": [
    "# \"squeeze\": Flag that indicates that if the data read only contains one column the result is a Series instead of a DataFrame."
   ]
  },
  {
   "cell_type": "raw",
   "id": "6cec7a86-14af-4935-81fc-489f5e89ae60",
   "metadata": {},
   "source": [
    "# \"thousands\": Character to use to detect the thousands separator."
   ]
  },
  {
   "cell_type": "raw",
   "id": "1c09ed50-8134-470a-8048-3e4f3c7fd2af",
   "metadata": {},
   "source": [
    "# \"decimal\": Character to use to detect the decimal separator."
   ]
  },
  {
   "cell_type": "raw",
   "id": "be969c45-4385-4eac-8cca-94aed9d74827",
   "metadata": {},
   "source": [
    "# \"skip_blank_lines\": Flag that indicates whether blank lines should'be ignored."
   ]
  },
  {
   "cell_type": "raw",
   "id": "f285c1db-c65b-4e92-bc9f-678acf871ce4",
   "metadata": {},
   "source": [
    "Full read_csv documentation can be found here: https://pandas.pydata.org/pandas-docs/stable/reference/api/pandas.read_csv.html."
   ]
  },
  {
   "cell_type": "raw",
   "id": "e9acfe00-409a-41b7-93e6-e00aa1d532a3",
   "metadata": {},
   "source": [
    "In this case we'll try to read our 'btc-marked=price.csv' CSV file using different parameters to parse it correctly."
   ]
  },
  {
   "cell_type": "raw",
   "id": "7bb691a3-f974-4530-b19e-ec01af23a14f",
   "metadata": {},
   "source": [
    "This file contains records of the mean price of Bitcoin per date."
   ]
  },
  {
   "cell_type": "markdown",
   "id": "f03fe5e4-82b1-44da-84fe-576dd981e4f8",
   "metadata": {},
   "source": [
    "## Reading our first CSV file"
   ]
  },
  {
   "cell_type": "raw",
   "id": "99021d00-f18a-4a6a-8236-02cc31e611ff",
   "metadata": {},
   "source": [
    "Everytime we call \"read_csv\" method,we'll need to pass an explicit \"filepath\" parameter indicating the path where our CSV file is."
   ]
  },
  {
   "cell_type": "raw",
   "id": "908be57c-4f3b-4e1c-b2fc-40223e3cb8a7",
   "metadata": {},
   "source": [
    "Any valid string path is acceptable.The string could be a URL.Valid URL schemes include HTTP,FTP,S3 and file.for file URLs,a host is expected.A local file could be : \"file://localhost/path/to/table.csv\"."
   ]
  },
  {
   "cell_type": "raw",
   "id": "1bdc3538-1a5d-482f-8aff-903b61b323c6",
   "metadata": {},
   "source": [
    "For example we can use \"read_csv\" method to load data dirrectly from an URL:"
   ]
  },
  {
   "cell_type": "code",
   "execution_count": 4,
   "id": "1c738a61-0a14-4295-aa0c-16381682ebc4",
   "metadata": {},
   "outputs": [
    {
     "data": {
      "text/html": [
       "<div>\n",
       "<style scoped>\n",
       "    .dataframe tbody tr th:only-of-type {\n",
       "        vertical-align: middle;\n",
       "    }\n",
       "\n",
       "    .dataframe tbody tr th {\n",
       "        vertical-align: top;\n",
       "    }\n",
       "\n",
       "    .dataframe thead th {\n",
       "        text-align: right;\n",
       "    }\n",
       "</style>\n",
       "<table border=\"1\" class=\"dataframe\">\n",
       "  <thead>\n",
       "    <tr style=\"text-align: right;\">\n",
       "      <th></th>\n",
       "      <th>Country Name</th>\n",
       "      <th>Country Code</th>\n",
       "      <th>Year</th>\n",
       "      <th>Value</th>\n",
       "    </tr>\n",
       "  </thead>\n",
       "  <tbody>\n",
       "    <tr>\n",
       "      <th>0</th>\n",
       "      <td>Arab World</td>\n",
       "      <td>ARB</td>\n",
       "      <td>1968</td>\n",
       "      <td>2.576068e+10</td>\n",
       "    </tr>\n",
       "    <tr>\n",
       "      <th>1</th>\n",
       "      <td>Arab World</td>\n",
       "      <td>ARB</td>\n",
       "      <td>1969</td>\n",
       "      <td>2.843420e+10</td>\n",
       "    </tr>\n",
       "    <tr>\n",
       "      <th>2</th>\n",
       "      <td>Arab World</td>\n",
       "      <td>ARB</td>\n",
       "      <td>1970</td>\n",
       "      <td>3.138550e+10</td>\n",
       "    </tr>\n",
       "    <tr>\n",
       "      <th>3</th>\n",
       "      <td>Arab World</td>\n",
       "      <td>ARB</td>\n",
       "      <td>1971</td>\n",
       "      <td>3.642691e+10</td>\n",
       "    </tr>\n",
       "    <tr>\n",
       "      <th>4</th>\n",
       "      <td>Arab World</td>\n",
       "      <td>ARB</td>\n",
       "      <td>1972</td>\n",
       "      <td>4.331606e+10</td>\n",
       "    </tr>\n",
       "  </tbody>\n",
       "</table>\n",
       "</div>"
      ],
      "text/plain": [
       "  Country Name Country Code  Year         Value\n",
       "0   Arab World          ARB  1968  2.576068e+10\n",
       "1   Arab World          ARB  1969  2.843420e+10\n",
       "2   Arab World          ARB  1970  3.138550e+10\n",
       "3   Arab World          ARB  1971  3.642691e+10\n",
       "4   Arab World          ARB  1972  4.331606e+10"
      ]
     },
     "execution_count": 4,
     "metadata": {},
     "output_type": "execute_result"
    }
   ],
   "source": [
    "csv_url=\"https://raw.githubusercontent.com/datasets/gdp/master/data/gdp.csv\"\n",
    "pd.read_csv(csv_url).head()"
   ]
  },
  {
   "cell_type": "raw",
   "id": "1933c18e-daed-4e4c-8c1a-474129bdb34c",
   "metadata": {},
   "source": [
    "Or just use a local file :"
   ]
  },
  {
   "cell_type": "code",
   "execution_count": 5,
   "id": "465ad707-56ca-475b-bf6e-44e0f38dbf65",
   "metadata": {},
   "outputs": [
    {
     "data": {
      "text/html": [
       "<div>\n",
       "<style scoped>\n",
       "    .dataframe tbody tr th:only-of-type {\n",
       "        vertical-align: middle;\n",
       "    }\n",
       "\n",
       "    .dataframe tbody tr th {\n",
       "        vertical-align: top;\n",
       "    }\n",
       "\n",
       "    .dataframe thead th {\n",
       "        text-align: right;\n",
       "    }\n",
       "</style>\n",
       "<table border=\"1\" class=\"dataframe\">\n",
       "  <thead>\n",
       "    <tr style=\"text-align: right;\">\n",
       "      <th></th>\n",
       "      <th>2/4/17 0:00</th>\n",
       "      <th>1099.169125</th>\n",
       "    </tr>\n",
       "  </thead>\n",
       "  <tbody>\n",
       "    <tr>\n",
       "      <th>0</th>\n",
       "      <td>3/4/17 0:00</td>\n",
       "      <td>1141.813</td>\n",
       "    </tr>\n",
       "    <tr>\n",
       "      <th>1</th>\n",
       "      <td>4/4/17 0:00</td>\n",
       "      <td>?</td>\n",
       "    </tr>\n",
       "    <tr>\n",
       "      <th>2</th>\n",
       "      <td>5/4/17 0:00</td>\n",
       "      <td>1133.079314</td>\n",
       "    </tr>\n",
       "    <tr>\n",
       "      <th>3</th>\n",
       "      <td>6/4/17 0:00</td>\n",
       "      <td>-</td>\n",
       "    </tr>\n",
       "    <tr>\n",
       "      <th>4</th>\n",
       "      <td>7/4/17 0:00</td>\n",
       "      <td>-</td>\n",
       "    </tr>\n",
       "  </tbody>\n",
       "</table>\n",
       "</div>"
      ],
      "text/plain": [
       "   2/4/17 0:00  1099.169125\n",
       "0  3/4/17 0:00     1141.813\n",
       "1  4/4/17 0:00            ?\n",
       "2  5/4/17 0:00  1133.079314\n",
       "3  6/4/17 0:00            -\n",
       "4  7/4/17 0:00            -"
      ]
     },
     "execution_count": 5,
     "metadata": {},
     "output_type": "execute_result"
    }
   ],
   "source": [
    "df=pd.read_csv('btc-market-price.csv')\n",
    "df.head()"
   ]
  },
  {
   "cell_type": "raw",
   "id": "ac750f09-0dbd-4112-a3b0-561af494f0dd",
   "metadata": {},
   "source": [
    "In this case we let pandas infer everything related to our data, but in most of the cases we'll need to explicitly tell pandas how we want our data to be loaded.To fo that we use parameters."
   ]
  },
  {
   "cell_type": "raw",
   "id": "7167d4e2-ce84-428a-9e6e-f445d75458d2",
   "metadata": {},
   "source": [
    "Let's see how these parameters works."
   ]
  },
  {
   "cell_type": "markdown",
   "id": "ab34aad3-5916-4dbc-86c9-ece2025e29c4",
   "metadata": {},
   "source": [
    "## First row behavior with \"header\" parameter"
   ]
  },
  {
   "cell_type": "raw",
   "id": "861ede3e-baae-4a3c-98db-9647b3f208b4",
   "metadata": {},
   "source": [
    "The CSV file we're reading has only two columns: \"Timestamp\" and \"Price\".It doesn't have a deader.Pandas automaticlly assigned the first row of data as headers,which is incorrect.we can overwrite this behaviour with the \"header\" parameter."
   ]
  },
  {
   "cell_type": "code",
   "execution_count": 6,
   "id": "0452f6e7-0cb0-419d-8c1b-f978fd25e15c",
   "metadata": {},
   "outputs": [],
   "source": [
    "df=pd.read_csv('btc-market-price.csv',header=None)"
   ]
  },
  {
   "cell_type": "code",
   "execution_count": 7,
   "id": "681a08f4-51ff-4a31-834e-0cb7701ebc6b",
   "metadata": {},
   "outputs": [
    {
     "data": {
      "text/html": [
       "<div>\n",
       "<style scoped>\n",
       "    .dataframe tbody tr th:only-of-type {\n",
       "        vertical-align: middle;\n",
       "    }\n",
       "\n",
       "    .dataframe tbody tr th {\n",
       "        vertical-align: top;\n",
       "    }\n",
       "\n",
       "    .dataframe thead th {\n",
       "        text-align: right;\n",
       "    }\n",
       "</style>\n",
       "<table border=\"1\" class=\"dataframe\">\n",
       "  <thead>\n",
       "    <tr style=\"text-align: right;\">\n",
       "      <th></th>\n",
       "      <th>0</th>\n",
       "      <th>1</th>\n",
       "    </tr>\n",
       "  </thead>\n",
       "  <tbody>\n",
       "    <tr>\n",
       "      <th>0</th>\n",
       "      <td>2/4/17 0:00</td>\n",
       "      <td>1099.169125</td>\n",
       "    </tr>\n",
       "    <tr>\n",
       "      <th>1</th>\n",
       "      <td>3/4/17 0:00</td>\n",
       "      <td>1141.813</td>\n",
       "    </tr>\n",
       "    <tr>\n",
       "      <th>2</th>\n",
       "      <td>4/4/17 0:00</td>\n",
       "      <td>?</td>\n",
       "    </tr>\n",
       "    <tr>\n",
       "      <th>3</th>\n",
       "      <td>5/4/17 0:00</td>\n",
       "      <td>1133.079314</td>\n",
       "    </tr>\n",
       "    <tr>\n",
       "      <th>4</th>\n",
       "      <td>6/4/17 0:00</td>\n",
       "      <td>-</td>\n",
       "    </tr>\n",
       "  </tbody>\n",
       "</table>\n",
       "</div>"
      ],
      "text/plain": [
       "             0            1\n",
       "0  2/4/17 0:00  1099.169125\n",
       "1  3/4/17 0:00     1141.813\n",
       "2  4/4/17 0:00            ?\n",
       "3  5/4/17 0:00  1133.079314\n",
       "4  6/4/17 0:00            -"
      ]
     },
     "execution_count": 7,
     "metadata": {},
     "output_type": "execute_result"
    }
   ],
   "source": [
    "df.head()"
   ]
  },
  {
   "cell_type": "markdown",
   "id": "d1696130-0099-4cb5-b099-bf7372e48e57",
   "metadata": {},
   "source": [
    "## Missisng values with \"na_values\" parameters"
   ]
  },
  {
   "cell_type": "raw",
   "id": "1c264bbf-9448-4c50-88aa-fa5bfd54f6f7",
   "metadata": {},
   "source": [
    "We can define a \"na_values\" parameters with the values we want to be organized as NA/NaN.In this case empty strings '',? and - willbe recognized as null values."
   ]
  },
  {
   "cell_type": "code",
   "execution_count": 8,
   "id": "7835cb7c-d7e1-4920-a01f-fa406ecf9027",
   "metadata": {},
   "outputs": [],
   "source": [
    "df=pd.read_csv('btc-market-price.csv',header=None,\n",
    "               na_values=['','?','-'])"
   ]
  },
  {
   "cell_type": "code",
   "execution_count": 9,
   "id": "31bab8ab-a788-4d4a-9ef7-4a6dc47dab19",
   "metadata": {},
   "outputs": [
    {
     "data": {
      "text/html": [
       "<div>\n",
       "<style scoped>\n",
       "    .dataframe tbody tr th:only-of-type {\n",
       "        vertical-align: middle;\n",
       "    }\n",
       "\n",
       "    .dataframe tbody tr th {\n",
       "        vertical-align: top;\n",
       "    }\n",
       "\n",
       "    .dataframe thead th {\n",
       "        text-align: right;\n",
       "    }\n",
       "</style>\n",
       "<table border=\"1\" class=\"dataframe\">\n",
       "  <thead>\n",
       "    <tr style=\"text-align: right;\">\n",
       "      <th></th>\n",
       "      <th>0</th>\n",
       "      <th>1</th>\n",
       "    </tr>\n",
       "  </thead>\n",
       "  <tbody>\n",
       "    <tr>\n",
       "      <th>0</th>\n",
       "      <td>2/4/17 0:00</td>\n",
       "      <td>1099.169125</td>\n",
       "    </tr>\n",
       "    <tr>\n",
       "      <th>1</th>\n",
       "      <td>3/4/17 0:00</td>\n",
       "      <td>1141.813000</td>\n",
       "    </tr>\n",
       "    <tr>\n",
       "      <th>2</th>\n",
       "      <td>4/4/17 0:00</td>\n",
       "      <td>NaN</td>\n",
       "    </tr>\n",
       "    <tr>\n",
       "      <th>3</th>\n",
       "      <td>5/4/17 0:00</td>\n",
       "      <td>1133.079314</td>\n",
       "    </tr>\n",
       "    <tr>\n",
       "      <th>4</th>\n",
       "      <td>6/4/17 0:00</td>\n",
       "      <td>NaN</td>\n",
       "    </tr>\n",
       "  </tbody>\n",
       "</table>\n",
       "</div>"
      ],
      "text/plain": [
       "             0            1\n",
       "0  2/4/17 0:00  1099.169125\n",
       "1  3/4/17 0:00  1141.813000\n",
       "2  4/4/17 0:00          NaN\n",
       "3  5/4/17 0:00  1133.079314\n",
       "4  6/4/17 0:00          NaN"
      ]
     },
     "execution_count": 9,
     "metadata": {},
     "output_type": "execute_result"
    }
   ],
   "source": [
    "df.head()"
   ]
  },
  {
   "cell_type": "markdown",
   "id": "a95f2ca2-0182-4902-bf6b-1c8bce4e24ef",
   "metadata": {},
   "source": [
    "## Column names using \"names\" parameter"
   ]
  },
  {
   "cell_type": "raw",
   "id": "26405b52-1616-41de-8d4d-8f24063640bf",
   "metadata": {},
   "source": [
    "We'll add that columns names using the \"names\" parameter."
   ]
  },
  {
   "cell_type": "code",
   "execution_count": 10,
   "id": "631b870f-de85-4c49-a112-76269d4f69d3",
   "metadata": {},
   "outputs": [],
   "source": [
    "df=pd.read_csv('btc-market-price.csv',header=None,\n",
    "               na_values=['','?','-'],\n",
    "               names=['Timestamp','Price'])"
   ]
  },
  {
   "cell_type": "code",
   "execution_count": 11,
   "id": "919ae433-09b5-48e7-ae5c-93d2b2f279b8",
   "metadata": {},
   "outputs": [
    {
     "data": {
      "text/html": [
       "<div>\n",
       "<style scoped>\n",
       "    .dataframe tbody tr th:only-of-type {\n",
       "        vertical-align: middle;\n",
       "    }\n",
       "\n",
       "    .dataframe tbody tr th {\n",
       "        vertical-align: top;\n",
       "    }\n",
       "\n",
       "    .dataframe thead th {\n",
       "        text-align: right;\n",
       "    }\n",
       "</style>\n",
       "<table border=\"1\" class=\"dataframe\">\n",
       "  <thead>\n",
       "    <tr style=\"text-align: right;\">\n",
       "      <th></th>\n",
       "      <th>Timestamp</th>\n",
       "      <th>Price</th>\n",
       "    </tr>\n",
       "  </thead>\n",
       "  <tbody>\n",
       "    <tr>\n",
       "      <th>0</th>\n",
       "      <td>2/4/17 0:00</td>\n",
       "      <td>1099.169125</td>\n",
       "    </tr>\n",
       "    <tr>\n",
       "      <th>1</th>\n",
       "      <td>3/4/17 0:00</td>\n",
       "      <td>1141.813000</td>\n",
       "    </tr>\n",
       "    <tr>\n",
       "      <th>2</th>\n",
       "      <td>4/4/17 0:00</td>\n",
       "      <td>NaN</td>\n",
       "    </tr>\n",
       "    <tr>\n",
       "      <th>3</th>\n",
       "      <td>5/4/17 0:00</td>\n",
       "      <td>1133.079314</td>\n",
       "    </tr>\n",
       "    <tr>\n",
       "      <th>4</th>\n",
       "      <td>6/4/17 0:00</td>\n",
       "      <td>NaN</td>\n",
       "    </tr>\n",
       "  </tbody>\n",
       "</table>\n",
       "</div>"
      ],
      "text/plain": [
       "     Timestamp        Price\n",
       "0  2/4/17 0:00  1099.169125\n",
       "1  3/4/17 0:00  1141.813000\n",
       "2  4/4/17 0:00          NaN\n",
       "3  5/4/17 0:00  1133.079314\n",
       "4  6/4/17 0:00          NaN"
      ]
     },
     "execution_count": 11,
     "metadata": {},
     "output_type": "execute_result"
    }
   ],
   "source": [
    "df.head()"
   ]
  },
  {
   "cell_type": "markdown",
   "id": "d590f2d3-38e7-416a-afbb-f1d068419c7b",
   "metadata": {},
   "source": [
    "## Column types using \"dtypes\" parameter"
   ]
  },
  {
   "cell_type": "raw",
   "id": "deb1e3a1-26ef-4fec-9a97-1ed0ef23479e",
   "metadata": {},
   "source": [
    "Without using \"dtypes\" parameter pandas will try to figure it out the type of each column automaticlly.We canuse \"dtype\" parameter to firce pandas to use certain dtype."
   ]
  },
  {
   "cell_type": "raw",
   "id": "11c43576-c02e-4dc3-872d-4427574f2030",
   "metadata": {},
   "source": [
    "In this case we'll force the \"price\" column to be \"float\"."
   ]
  },
  {
   "cell_type": "code",
   "execution_count": 12,
   "id": "27e93946-c463-4d60-94a0-fb69ff5a5c92",
   "metadata": {},
   "outputs": [],
   "source": [
    "df=pd.read_csv('btc-market-price.csv',header=None,na_values=['','?','-'],\n",
    "              names=['Timestamp','price'],dtype={'Price':'float'})"
   ]
  },
  {
   "cell_type": "code",
   "execution_count": 13,
   "id": "e190f47b-cf8d-4621-b34d-a40abbe44aba",
   "metadata": {},
   "outputs": [
    {
     "data": {
      "text/html": [
       "<div>\n",
       "<style scoped>\n",
       "    .dataframe tbody tr th:only-of-type {\n",
       "        vertical-align: middle;\n",
       "    }\n",
       "\n",
       "    .dataframe tbody tr th {\n",
       "        vertical-align: top;\n",
       "    }\n",
       "\n",
       "    .dataframe thead th {\n",
       "        text-align: right;\n",
       "    }\n",
       "</style>\n",
       "<table border=\"1\" class=\"dataframe\">\n",
       "  <thead>\n",
       "    <tr style=\"text-align: right;\">\n",
       "      <th></th>\n",
       "      <th>Timestamp</th>\n",
       "      <th>price</th>\n",
       "    </tr>\n",
       "  </thead>\n",
       "  <tbody>\n",
       "    <tr>\n",
       "      <th>0</th>\n",
       "      <td>2/4/17 0:00</td>\n",
       "      <td>1099.169125</td>\n",
       "    </tr>\n",
       "    <tr>\n",
       "      <th>1</th>\n",
       "      <td>3/4/17 0:00</td>\n",
       "      <td>1141.813000</td>\n",
       "    </tr>\n",
       "    <tr>\n",
       "      <th>2</th>\n",
       "      <td>4/4/17 0:00</td>\n",
       "      <td>NaN</td>\n",
       "    </tr>\n",
       "    <tr>\n",
       "      <th>3</th>\n",
       "      <td>5/4/17 0:00</td>\n",
       "      <td>1133.079314</td>\n",
       "    </tr>\n",
       "    <tr>\n",
       "      <th>4</th>\n",
       "      <td>6/4/17 0:00</td>\n",
       "      <td>NaN</td>\n",
       "    </tr>\n",
       "  </tbody>\n",
       "</table>\n",
       "</div>"
      ],
      "text/plain": [
       "     Timestamp        price\n",
       "0  2/4/17 0:00  1099.169125\n",
       "1  3/4/17 0:00  1141.813000\n",
       "2  4/4/17 0:00          NaN\n",
       "3  5/4/17 0:00  1133.079314\n",
       "4  6/4/17 0:00          NaN"
      ]
     },
     "execution_count": 13,
     "metadata": {},
     "output_type": "execute_result"
    }
   ],
   "source": [
    "df.head()"
   ]
  },
  {
   "cell_type": "code",
   "execution_count": 14,
   "id": "aa5c1d8f-8423-493f-9dcf-55e10861719e",
   "metadata": {},
   "outputs": [
    {
     "data": {
      "text/plain": [
       "Timestamp     object\n",
       "price        float64\n",
       "dtype: object"
      ]
     },
     "execution_count": 14,
     "metadata": {},
     "output_type": "execute_result"
    }
   ],
   "source": [
    "df.dtypes"
   ]
  },
  {
   "cell_type": "raw",
   "id": "169b681e-2513-4125-ba36-892ff6891386",
   "metadata": {},
   "source": [
    "The \"Timestamp\" column was interpreted as a regular string(\"object\" isn pandas notation),we can parse it manually using a vectorized operation as we saw on previous courses."
   ]
  },
  {
   "cell_type": "raw",
   "id": "81b068a8-ed81-495e-b42a-7e176dec8bf8",
   "metadata": {},
   "source": [
    "We'll parse \"Timestam\" column to \"Datetime\" objects using \"to_datetime\" method:"
   ]
  },
  {
   "cell_type": "code",
   "execution_count": 15,
   "id": "332f3a17-9a81-4096-bd04-196e2c032a41",
   "metadata": {},
   "outputs": [
    {
     "name": "stderr",
     "output_type": "stream",
     "text": [
      "C:\\Users\\Lapshop BD\\AppData\\Local\\Temp\\ipykernel_15832\\1027740461.py:1: UserWarning: Could not infer format, so each element will be parsed individually, falling back to `dateutil`. To ensure parsing is consistent and as-expected, please specify a format.\n",
      "  pd.to_datetime(df['Timestamp']).head()\n"
     ]
    },
    {
     "data": {
      "text/plain": [
       "0   2017-02-04\n",
       "1   2017-03-04\n",
       "2   2017-04-04\n",
       "3   2017-05-04\n",
       "4   2017-06-04\n",
       "Name: Timestamp, dtype: datetime64[ns]"
      ]
     },
     "execution_count": 15,
     "metadata": {},
     "output_type": "execute_result"
    }
   ],
   "source": [
    "pd.to_datetime(df['Timestamp']).head()"
   ]
  },
  {
   "cell_type": "code",
   "execution_count": 16,
   "id": "6c6a072c-f724-46a0-b337-b025438b1317",
   "metadata": {},
   "outputs": [
    {
     "name": "stderr",
     "output_type": "stream",
     "text": [
      "C:\\Users\\Lapshop BD\\AppData\\Local\\Temp\\ipykernel_15832\\766710655.py:1: UserWarning: Could not infer format, so each element will be parsed individually, falling back to `dateutil`. To ensure parsing is consistent and as-expected, please specify a format.\n",
      "  df['Timestamp'] = pd.to_datetime(df['Timestamp'])\n"
     ]
    }
   ],
   "source": [
    "df['Timestamp'] = pd.to_datetime(df['Timestamp'])"
   ]
  },
  {
   "cell_type": "code",
   "execution_count": 17,
   "id": "3fd11d63-ba90-4181-8c6a-04d7ed150227",
   "metadata": {},
   "outputs": [
    {
     "data": {
      "text/html": [
       "<div>\n",
       "<style scoped>\n",
       "    .dataframe tbody tr th:only-of-type {\n",
       "        vertical-align: middle;\n",
       "    }\n",
       "\n",
       "    .dataframe tbody tr th {\n",
       "        vertical-align: top;\n",
       "    }\n",
       "\n",
       "    .dataframe thead th {\n",
       "        text-align: right;\n",
       "    }\n",
       "</style>\n",
       "<table border=\"1\" class=\"dataframe\">\n",
       "  <thead>\n",
       "    <tr style=\"text-align: right;\">\n",
       "      <th></th>\n",
       "      <th>Timestamp</th>\n",
       "      <th>price</th>\n",
       "    </tr>\n",
       "  </thead>\n",
       "  <tbody>\n",
       "    <tr>\n",
       "      <th>0</th>\n",
       "      <td>2017-02-04</td>\n",
       "      <td>1099.169125</td>\n",
       "    </tr>\n",
       "    <tr>\n",
       "      <th>1</th>\n",
       "      <td>2017-03-04</td>\n",
       "      <td>1141.813000</td>\n",
       "    </tr>\n",
       "    <tr>\n",
       "      <th>2</th>\n",
       "      <td>2017-04-04</td>\n",
       "      <td>NaN</td>\n",
       "    </tr>\n",
       "    <tr>\n",
       "      <th>3</th>\n",
       "      <td>2017-05-04</td>\n",
       "      <td>1133.079314</td>\n",
       "    </tr>\n",
       "    <tr>\n",
       "      <th>4</th>\n",
       "      <td>2017-06-04</td>\n",
       "      <td>NaN</td>\n",
       "    </tr>\n",
       "  </tbody>\n",
       "</table>\n",
       "</div>"
      ],
      "text/plain": [
       "   Timestamp        price\n",
       "0 2017-02-04  1099.169125\n",
       "1 2017-03-04  1141.813000\n",
       "2 2017-04-04          NaN\n",
       "3 2017-05-04  1133.079314\n",
       "4 2017-06-04          NaN"
      ]
     },
     "execution_count": 17,
     "metadata": {},
     "output_type": "execute_result"
    }
   ],
   "source": [
    "df.head()"
   ]
  },
  {
   "cell_type": "code",
   "execution_count": 18,
   "id": "ffe11cc6-a79e-49dc-aab5-9d315a715e15",
   "metadata": {},
   "outputs": [
    {
     "data": {
      "text/plain": [
       "Timestamp    datetime64[ns]\n",
       "price               float64\n",
       "dtype: object"
      ]
     },
     "execution_count": 18,
     "metadata": {},
     "output_type": "execute_result"
    }
   ],
   "source": [
    "df.dtypes"
   ]
  },
  {
   "cell_type": "markdown",
   "id": "db7138cf-6337-4a1a-8cf7-aa91dd60d9a8",
   "metadata": {},
   "source": [
    "## Data parser using \"parse_dates\" parameter"
   ]
  },
  {
   "cell_type": "raw",
   "id": "7daf54de-507d-4012-8abb-8de47d8cfbae",
   "metadata": {},
   "source": [
    "Another way of dealing with \"Datetime\" objects is using \"parse_dates\" parameter with the position of the columns with dates."
   ]
  },
  {
   "cell_type": "code",
   "execution_count": 19,
   "id": "d2775cb7-ecfe-4884-9aef-d38858c0bc01",
   "metadata": {},
   "outputs": [
    {
     "name": "stderr",
     "output_type": "stream",
     "text": [
      "C:\\Users\\Lapshop BD\\AppData\\Local\\Temp\\ipykernel_15832\\486550811.py:1: UserWarning: Could not infer format, so each element will be parsed individually, falling back to `dateutil`. To ensure parsing is consistent and as-expected, please specify a format.\n",
      "  df = pd.read_csv('btc-market-price.csv',header=None,na_values=['', '?', '-'],\n"
     ]
    }
   ],
   "source": [
    "df = pd.read_csv('btc-market-price.csv',header=None,na_values=['', '?', '-'],\n",
    "                 names=['Timestamp', 'Price'],dtype={'Price': 'float'},parse_dates=[0])"
   ]
  },
  {
   "cell_type": "code",
   "execution_count": 20,
   "id": "03114eeb-374a-4dc0-984b-12b5e681b4f4",
   "metadata": {},
   "outputs": [
    {
     "data": {
      "text/html": [
       "<div>\n",
       "<style scoped>\n",
       "    .dataframe tbody tr th:only-of-type {\n",
       "        vertical-align: middle;\n",
       "    }\n",
       "\n",
       "    .dataframe tbody tr th {\n",
       "        vertical-align: top;\n",
       "    }\n",
       "\n",
       "    .dataframe thead th {\n",
       "        text-align: right;\n",
       "    }\n",
       "</style>\n",
       "<table border=\"1\" class=\"dataframe\">\n",
       "  <thead>\n",
       "    <tr style=\"text-align: right;\">\n",
       "      <th></th>\n",
       "      <th>Timestamp</th>\n",
       "      <th>Price</th>\n",
       "    </tr>\n",
       "  </thead>\n",
       "  <tbody>\n",
       "    <tr>\n",
       "      <th>0</th>\n",
       "      <td>2017-02-04</td>\n",
       "      <td>1099.169125</td>\n",
       "    </tr>\n",
       "    <tr>\n",
       "      <th>1</th>\n",
       "      <td>2017-03-04</td>\n",
       "      <td>1141.813000</td>\n",
       "    </tr>\n",
       "    <tr>\n",
       "      <th>2</th>\n",
       "      <td>2017-04-04</td>\n",
       "      <td>NaN</td>\n",
       "    </tr>\n",
       "    <tr>\n",
       "      <th>3</th>\n",
       "      <td>2017-05-04</td>\n",
       "      <td>1133.079314</td>\n",
       "    </tr>\n",
       "    <tr>\n",
       "      <th>4</th>\n",
       "      <td>2017-06-04</td>\n",
       "      <td>NaN</td>\n",
       "    </tr>\n",
       "  </tbody>\n",
       "</table>\n",
       "</div>"
      ],
      "text/plain": [
       "   Timestamp        Price\n",
       "0 2017-02-04  1099.169125\n",
       "1 2017-03-04  1141.813000\n",
       "2 2017-04-04          NaN\n",
       "3 2017-05-04  1133.079314\n",
       "4 2017-06-04          NaN"
      ]
     },
     "execution_count": 20,
     "metadata": {},
     "output_type": "execute_result"
    }
   ],
   "source": [
    "df.head()"
   ]
  },
  {
   "cell_type": "code",
   "execution_count": 21,
   "id": "a2cfc11a-f84d-4120-938a-665027805a83",
   "metadata": {},
   "outputs": [
    {
     "data": {
      "text/plain": [
       "Timestamp    datetime64[ns]\n",
       "Price               float64\n",
       "dtype: object"
      ]
     },
     "execution_count": 21,
     "metadata": {},
     "output_type": "execute_result"
    }
   ],
   "source": [
    "df.dtypes"
   ]
  },
  {
   "cell_type": "markdown",
   "id": "b92ae87e-bbe2-4597-b905-2e206eeb98cb",
   "metadata": {},
   "source": [
    "## Adding index to our data using \"index_col\" parameter"
   ]
  },
  {
   "cell_type": "raw",
   "id": "5fa7096c-783c-4b47-8ef9-2302cbb7ca5c",
   "metadata": {},
   "source": [
    "By default,pandas will automaticallu assign a numeric autoincrimental index or row label starting with zero.You may want to leave the default index as such if your data  doesn't have a column with unique values that can serve as as better index.In case there is a column that you feel would serve as a better index,you can you can override the default behaviour by setting \"index_col\" property to a column.It takes a numeric value representing the index of a string of the column name for setting a single column as index or a list of numeric vakues of strings for creating a multi-index."
   ]
  },
  {
   "cell_type": "raw",
   "id": "551096b7-677b-4259-8442-194118ca9ffc",
   "metadata": {},
   "source": [
    "In our data, we are choosing the first column, \"Timestamp\", as index (index=0) by passing to the \"index_col\" argement."
   ]
  },
  {
   "cell_type": "code",
   "execution_count": 22,
   "id": "b4f66b78-8cc0-4d98-93c2-23c313c41688",
   "metadata": {},
   "outputs": [
    {
     "name": "stderr",
     "output_type": "stream",
     "text": [
      "C:\\Users\\Lapshop BD\\AppData\\Local\\Temp\\ipykernel_15832\\3938327873.py:1: UserWarning: Could not infer format, so each element will be parsed individually, falling back to `dateutil`. To ensure parsing is consistent and as-expected, please specify a format.\n",
      "  df=pd.read_csv('btc-market-price.csv',header=None,na_values=['','?','-'],\n"
     ]
    }
   ],
   "source": [
    "df=pd.read_csv('btc-market-price.csv',header=None,na_values=['','?','-'],\n",
    "               names=['Timestamp','price'],dtype={'Price':'float'},parse_dates=[0],\n",
    "               index_col=[0])"
   ]
  },
  {
   "cell_type": "code",
   "execution_count": 23,
   "id": "d6919857-1876-4b9b-885f-d6f172e7c898",
   "metadata": {},
   "outputs": [
    {
     "data": {
      "text/html": [
       "<div>\n",
       "<style scoped>\n",
       "    .dataframe tbody tr th:only-of-type {\n",
       "        vertical-align: middle;\n",
       "    }\n",
       "\n",
       "    .dataframe tbody tr th {\n",
       "        vertical-align: top;\n",
       "    }\n",
       "\n",
       "    .dataframe thead th {\n",
       "        text-align: right;\n",
       "    }\n",
       "</style>\n",
       "<table border=\"1\" class=\"dataframe\">\n",
       "  <thead>\n",
       "    <tr style=\"text-align: right;\">\n",
       "      <th></th>\n",
       "      <th>price</th>\n",
       "    </tr>\n",
       "    <tr>\n",
       "      <th>Timestamp</th>\n",
       "      <th></th>\n",
       "    </tr>\n",
       "  </thead>\n",
       "  <tbody>\n",
       "    <tr>\n",
       "      <th>2017-02-04</th>\n",
       "      <td>1099.169125</td>\n",
       "    </tr>\n",
       "    <tr>\n",
       "      <th>2017-03-04</th>\n",
       "      <td>1141.813000</td>\n",
       "    </tr>\n",
       "    <tr>\n",
       "      <th>2017-04-04</th>\n",
       "      <td>NaN</td>\n",
       "    </tr>\n",
       "    <tr>\n",
       "      <th>2017-05-04</th>\n",
       "      <td>1133.079314</td>\n",
       "    </tr>\n",
       "    <tr>\n",
       "      <th>2017-06-04</th>\n",
       "      <td>NaN</td>\n",
       "    </tr>\n",
       "  </tbody>\n",
       "</table>\n",
       "</div>"
      ],
      "text/plain": [
       "                  price\n",
       "Timestamp              \n",
       "2017-02-04  1099.169125\n",
       "2017-03-04  1141.813000\n",
       "2017-04-04          NaN\n",
       "2017-05-04  1133.079314\n",
       "2017-06-04          NaN"
      ]
     },
     "execution_count": 23,
     "metadata": {},
     "output_type": "execute_result"
    }
   ],
   "source": [
    "df.head()"
   ]
  },
  {
   "cell_type": "code",
   "execution_count": 24,
   "id": "642a7644-3cd9-413a-9057-c0fac74d6523",
   "metadata": {},
   "outputs": [
    {
     "data": {
      "text/plain": [
       "price    float64\n",
       "dtype: object"
      ]
     },
     "execution_count": 24,
     "metadata": {},
     "output_type": "execute_result"
    }
   ],
   "source": [
    "df.dtypes"
   ]
  },
  {
   "cell_type": "markdown",
   "id": "fb551842-8332-4764-ac3d-b28fe044ea33",
   "metadata": {},
   "source": [
    "## A more challenging parsing"
   ]
  },
  {
   "cell_type": "raw",
   "id": "58c53061-b096-4dfa-b9ca-5d2f3c19ebe5",
   "metadata": {},
   "source": [
    "Now we'll read another CSV file.This file has the following columns:"
   ]
  },
  {
   "cell_type": "code",
   "execution_count": 25,
   "id": "df25d307-cba5-4f5a-b81a-3a3884866b59",
   "metadata": {},
   "outputs": [],
   "source": [
    "# first_name"
   ]
  },
  {
   "cell_type": "code",
   "execution_count": 26,
   "id": "be289137-fbc9-45c9-bd1a-be9d60b2025f",
   "metadata": {},
   "outputs": [],
   "source": [
    "# last_name"
   ]
  },
  {
   "cell_type": "code",
   "execution_count": 27,
   "id": "f5b5be5b-c960-4eec-a399-40c4364375ae",
   "metadata": {},
   "outputs": [],
   "source": [
    "# age"
   ]
  },
  {
   "cell_type": "code",
   "execution_count": 28,
   "id": "8c8d1592-c36c-42af-8a2e-068c343b0f5b",
   "metadata": {},
   "outputs": [],
   "source": [
    "# math_scre"
   ]
  },
  {
   "cell_type": "code",
   "execution_count": 29,
   "id": "db6826ba-eaac-4589-9a66-76b46fcda1e5",
   "metadata": {},
   "outputs": [],
   "source": [
    "# french_score"
   ]
  },
  {
   "cell_type": "code",
   "execution_count": 30,
   "id": "fe26681c-29e3-4137-86bc-65b212cd0adc",
   "metadata": {},
   "outputs": [],
   "source": [
    "# next_test_date"
   ]
  },
  {
   "cell_type": "raw",
   "id": "3f311f17-47d9-4714-a7ad-81960dc38460",
   "metadata": {},
   "source": [
    "Let's read it and see how it looks like."
   ]
  },
  {
   "cell_type": "code",
   "execution_count": 31,
   "id": "609e2c3e-51ec-487d-a0db-f5b3835d47c8",
   "metadata": {},
   "outputs": [],
   "source": [
    "exam_df=pd.read_csv('exam_review.csv')"
   ]
  },
  {
   "cell_type": "code",
   "execution_count": 32,
   "id": "0460b310-ef16-4a36-a351-0a6a7cb0ae13",
   "metadata": {},
   "outputs": [
    {
     "data": {
      "text/html": [
       "<div>\n",
       "<style scoped>\n",
       "    .dataframe tbody tr th:only-of-type {\n",
       "        vertical-align: middle;\n",
       "    }\n",
       "\n",
       "    .dataframe tbody tr th {\n",
       "        vertical-align: top;\n",
       "    }\n",
       "\n",
       "    .dataframe thead th {\n",
       "        text-align: right;\n",
       "    }\n",
       "</style>\n",
       "<table border=\"1\" class=\"dataframe\">\n",
       "  <thead>\n",
       "    <tr style=\"text-align: right;\">\n",
       "      <th></th>\n",
       "      <th></th>\n",
       "      <th>first_name&gt;last_name&gt;age&gt;math_score&gt;french_score</th>\n",
       "    </tr>\n",
       "  </thead>\n",
       "  <tbody>\n",
       "    <tr>\n",
       "      <th>Ray&gt;Morley&gt;18&gt;\"68</th>\n",
       "      <th>000\"&gt;\"75</th>\n",
       "      <td>000\"</td>\n",
       "    </tr>\n",
       "    <tr>\n",
       "      <th>Melvin&gt;Scott&gt;24&gt;77&gt;83</th>\n",
       "      <th>NaN</th>\n",
       "      <td>NaN</td>\n",
       "    </tr>\n",
       "    <tr>\n",
       "      <th>Amirah&gt;Haley&gt;22&gt;92&gt;67</th>\n",
       "      <th>NaN</th>\n",
       "      <td>NaN</td>\n",
       "    </tr>\n",
       "    <tr>\n",
       "      <th>Gerard&gt;Mills&gt;19&gt;\"78</th>\n",
       "      <th>000\"&gt;72</th>\n",
       "      <td>NaN</td>\n",
       "    </tr>\n",
       "    <tr>\n",
       "      <th>Amy&gt;Grimes&gt;23&gt;91&gt;81</th>\n",
       "      <th>NaN</th>\n",
       "      <td>NaN</td>\n",
       "    </tr>\n",
       "  </tbody>\n",
       "</table>\n",
       "</div>"
      ],
      "text/plain": [
       "                               first_name>last_name>age>math_score>french_score\n",
       "Ray>Morley>18>\"68     000\">\"75                                             000\"\n",
       "Melvin>Scott>24>77>83 NaN                                                   NaN\n",
       "Amirah>Haley>22>92>67 NaN                                                   NaN\n",
       "Gerard>Mills>19>\"78   000\">72                                               NaN\n",
       "Amy>Grimes>23>91>81   NaN                                                   NaN"
      ]
     },
     "execution_count": 32,
     "metadata": {},
     "output_type": "execute_result"
    }
   ],
   "source": [
    "exam_df"
   ]
  },
  {
   "cell_type": "markdown",
   "id": "40368911-c943-41c7-a2fb-91f356dd8b95",
   "metadata": {},
   "source": [
    "## Custom data delimiters using \"sep\" parameter"
   ]
  },
  {
   "cell_type": "raw",
   "id": "6f3d5176-2e24-466e-8b05-60ffc937d4c7",
   "metadata": {},
   "source": [
    "We can define which delimiter to use by using the \"sep\" parameter.If we don't use the \"sep\" parameter, pandas will automatically detect the separator."
   ]
  },
  {
   "cell_type": "raw",
   "id": "9daca8dc-63ac-4a32-9ea9-8d3346072321",
   "metadata": {},
   "source": [
    "In the most of the CSV files separator will be comma(,) and will be automaticlly detected.But we can find files with other separators like semicolon(;),tabs(\\t,specially on the TSV files),whitespaces or any other special character."
   ]
  },
  {
   "cell_type": "markdown",
   "id": "0d5c218a-54d7-49da-8d46-34544f3ffe56",
   "metadata": {},
   "source": [
    "in this case the separator is a \">\" character."
   ]
  },
  {
   "cell_type": "code",
   "execution_count": 33,
   "id": "537935de-6b2f-4c89-a9b6-792687d53ffc",
   "metadata": {},
   "outputs": [],
   "source": [
    "exam_df=pd.read_csv('exam_review.csv',sep='>')"
   ]
  },
  {
   "cell_type": "code",
   "execution_count": 34,
   "id": "48f23bb4-5cbb-49d2-bad0-f51fc39fb7be",
   "metadata": {},
   "outputs": [
    {
     "data": {
      "text/html": [
       "<div>\n",
       "<style scoped>\n",
       "    .dataframe tbody tr th:only-of-type {\n",
       "        vertical-align: middle;\n",
       "    }\n",
       "\n",
       "    .dataframe tbody tr th {\n",
       "        vertical-align: top;\n",
       "    }\n",
       "\n",
       "    .dataframe thead th {\n",
       "        text-align: right;\n",
       "    }\n",
       "</style>\n",
       "<table border=\"1\" class=\"dataframe\">\n",
       "  <thead>\n",
       "    <tr style=\"text-align: right;\">\n",
       "      <th></th>\n",
       "      <th>first_name</th>\n",
       "      <th>last_name</th>\n",
       "      <th>age</th>\n",
       "      <th>math_score</th>\n",
       "      <th>french_score</th>\n",
       "    </tr>\n",
       "  </thead>\n",
       "  <tbody>\n",
       "    <tr>\n",
       "      <th>0</th>\n",
       "      <td>Ray</td>\n",
       "      <td>Morley</td>\n",
       "      <td>18</td>\n",
       "      <td>68,000</td>\n",
       "      <td>75,000</td>\n",
       "    </tr>\n",
       "    <tr>\n",
       "      <th>1</th>\n",
       "      <td>Melvin</td>\n",
       "      <td>Scott</td>\n",
       "      <td>24</td>\n",
       "      <td>77</td>\n",
       "      <td>83</td>\n",
       "    </tr>\n",
       "    <tr>\n",
       "      <th>2</th>\n",
       "      <td>Amirah</td>\n",
       "      <td>Haley</td>\n",
       "      <td>22</td>\n",
       "      <td>92</td>\n",
       "      <td>67</td>\n",
       "    </tr>\n",
       "    <tr>\n",
       "      <th>3</th>\n",
       "      <td>Gerard</td>\n",
       "      <td>Mills</td>\n",
       "      <td>19</td>\n",
       "      <td>78,000</td>\n",
       "      <td>72</td>\n",
       "    </tr>\n",
       "    <tr>\n",
       "      <th>4</th>\n",
       "      <td>Amy</td>\n",
       "      <td>Grimes</td>\n",
       "      <td>23</td>\n",
       "      <td>91</td>\n",
       "      <td>81</td>\n",
       "    </tr>\n",
       "  </tbody>\n",
       "</table>\n",
       "</div>"
      ],
      "text/plain": [
       "  first_name last_name  age math_score french_score\n",
       "0        Ray    Morley   18     68,000       75,000\n",
       "1     Melvin     Scott   24         77           83\n",
       "2     Amirah     Haley   22         92           67\n",
       "3     Gerard     Mills   19     78,000           72\n",
       "4        Amy    Grimes   23         91           81"
      ]
     },
     "execution_count": 34,
     "metadata": {},
     "output_type": "execute_result"
    }
   ],
   "source": [
    "exam_df"
   ]
  },
  {
   "cell_type": "markdown",
   "id": "c3595fc7-5034-4242-8dc2-08fac07929ca",
   "metadata": {},
   "source": [
    "## Custom data encoding"
   ]
  },
  {
   "cell_type": "raw",
   "id": "580a7cec-35e2-4023-822f-9316aaee9907",
   "metadata": {},
   "source": [
    "Files are stored using defferent \"encodings\".You've probably heard about ASCII,UFT-8,latin1,etc."
   ]
  },
  {
   "cell_type": "raw",
   "id": "aef28e3e-0eff-4129-af59-a1e655b89480",
   "metadata": {},
   "source": [
    "While reading data custom encoding can'be defined with the \"encoding\" parameter."
   ]
  },
  {
   "cell_type": "raw",
   "id": "84c1cdc9-cdfa-413e-ac11-7d16aab43497",
   "metadata": {},
   "source": [
    "# \"encodinng ='UFT-8'\": will'be used if data is UFT-8 encoded."
   ]
  },
  {
   "cell_type": "raw",
   "id": "9dece1cd-9dbb-4b6d-ac27-d7727628e1fd",
   "metadata": {},
   "source": [
    "# \"encoding='iso-8859-1'\":will be used if data is ISO/IEC 8859-1(\"extended ASCII\")encoded."
   ]
  },
  {
   "cell_type": "raw",
   "id": "7cf0e5a6-7a0e-467e-a673-63f78c541e97",
   "metadata": {},
   "source": [
    "In our case we don't need a custom encoding as data is properly loaded."
   ]
  },
  {
   "cell_type": "markdown",
   "id": "63701d1c-251d-4ba7-8761-e9a57cb9e0a1",
   "metadata": {},
   "source": [
    "## Custom numeric \"decimal\" and \"thousands\" characters  "
   ]
  },
  {
   "cell_type": "raw",
   "id": "d43670ab-343f-47e7-b1a4-e5697e686d73",
   "metadata": {},
   "source": [
    "The decimal and thousands characters could change between datasets.If we have a column conatining a comma(,) to indicate the decimal or thousands place, then this column would be considered as a string not numeric."
   ]
  },
  {
   "cell_type": "code",
   "execution_count": 35,
   "id": "0430c18b-555a-4319-a784-0ac0bbc0ec5b",
   "metadata": {},
   "outputs": [],
   "source": [
    "exam_df=pd.read_csv('exam_review.csv',sep='>')"
   ]
  },
  {
   "cell_type": "code",
   "execution_count": 36,
   "id": "58926b58-785e-4107-b18c-49296229743b",
   "metadata": {},
   "outputs": [
    {
     "data": {
      "text/html": [
       "<div>\n",
       "<style scoped>\n",
       "    .dataframe tbody tr th:only-of-type {\n",
       "        vertical-align: middle;\n",
       "    }\n",
       "\n",
       "    .dataframe tbody tr th {\n",
       "        vertical-align: top;\n",
       "    }\n",
       "\n",
       "    .dataframe thead th {\n",
       "        text-align: right;\n",
       "    }\n",
       "</style>\n",
       "<table border=\"1\" class=\"dataframe\">\n",
       "  <thead>\n",
       "    <tr style=\"text-align: right;\">\n",
       "      <th></th>\n",
       "      <th>first_name</th>\n",
       "      <th>last_name</th>\n",
       "      <th>age</th>\n",
       "      <th>math_score</th>\n",
       "      <th>french_score</th>\n",
       "    </tr>\n",
       "  </thead>\n",
       "  <tbody>\n",
       "    <tr>\n",
       "      <th>0</th>\n",
       "      <td>Ray</td>\n",
       "      <td>Morley</td>\n",
       "      <td>18</td>\n",
       "      <td>68,000</td>\n",
       "      <td>75,000</td>\n",
       "    </tr>\n",
       "    <tr>\n",
       "      <th>1</th>\n",
       "      <td>Melvin</td>\n",
       "      <td>Scott</td>\n",
       "      <td>24</td>\n",
       "      <td>77</td>\n",
       "      <td>83</td>\n",
       "    </tr>\n",
       "    <tr>\n",
       "      <th>2</th>\n",
       "      <td>Amirah</td>\n",
       "      <td>Haley</td>\n",
       "      <td>22</td>\n",
       "      <td>92</td>\n",
       "      <td>67</td>\n",
       "    </tr>\n",
       "    <tr>\n",
       "      <th>3</th>\n",
       "      <td>Gerard</td>\n",
       "      <td>Mills</td>\n",
       "      <td>19</td>\n",
       "      <td>78,000</td>\n",
       "      <td>72</td>\n",
       "    </tr>\n",
       "    <tr>\n",
       "      <th>4</th>\n",
       "      <td>Amy</td>\n",
       "      <td>Grimes</td>\n",
       "      <td>23</td>\n",
       "      <td>91</td>\n",
       "      <td>81</td>\n",
       "    </tr>\n",
       "  </tbody>\n",
       "</table>\n",
       "</div>"
      ],
      "text/plain": [
       "  first_name last_name  age math_score french_score\n",
       "0        Ray    Morley   18     68,000       75,000\n",
       "1     Melvin     Scott   24         77           83\n",
       "2     Amirah     Haley   22         92           67\n",
       "3     Gerard     Mills   19     78,000           72\n",
       "4        Amy    Grimes   23         91           81"
      ]
     },
     "execution_count": 36,
     "metadata": {},
     "output_type": "execute_result"
    }
   ],
   "source": [
    "exam_df"
   ]
  },
  {
   "cell_type": "code",
   "execution_count": 37,
   "id": "42fc2256-5709-479a-b70a-54ac7059114a",
   "metadata": {},
   "outputs": [
    {
     "data": {
      "text/plain": [
       "math_score      object\n",
       "french_score    object\n",
       "dtype: object"
      ]
     },
     "execution_count": 37,
     "metadata": {},
     "output_type": "execute_result"
    }
   ],
   "source": [
    "exam_df[['math_score','french_score']].dtypes"
   ]
  },
  {
   "cell_type": "raw",
   "id": "8e6c4c85-746c-47f7-8520-288c4f4b7c20",
   "metadata": {},
   "source": [
    "To solve that,ensuring such columns asr interpreted as integer values.we'll need to use the \"decimal\" and/or \"thousands\" parameters to indicate correct decimal and/or thousands indicator."
   ]
  },
  {
   "cell_type": "code",
   "execution_count": 38,
   "id": "b0891328-7edc-4fb3-afd9-d2fa61b7fd06",
   "metadata": {},
   "outputs": [],
   "source": [
    "exam_df=pd.read_csv('exam_review.csv',sep='>',decimal=',')"
   ]
  },
  {
   "cell_type": "code",
   "execution_count": 39,
   "id": "97885abf-f5e4-4c58-8ddb-654d12e9bf5f",
   "metadata": {},
   "outputs": [
    {
     "data": {
      "text/html": [
       "<div>\n",
       "<style scoped>\n",
       "    .dataframe tbody tr th:only-of-type {\n",
       "        vertical-align: middle;\n",
       "    }\n",
       "\n",
       "    .dataframe tbody tr th {\n",
       "        vertical-align: top;\n",
       "    }\n",
       "\n",
       "    .dataframe thead th {\n",
       "        text-align: right;\n",
       "    }\n",
       "</style>\n",
       "<table border=\"1\" class=\"dataframe\">\n",
       "  <thead>\n",
       "    <tr style=\"text-align: right;\">\n",
       "      <th></th>\n",
       "      <th>first_name</th>\n",
       "      <th>last_name</th>\n",
       "      <th>age</th>\n",
       "      <th>math_score</th>\n",
       "      <th>french_score</th>\n",
       "    </tr>\n",
       "  </thead>\n",
       "  <tbody>\n",
       "    <tr>\n",
       "      <th>0</th>\n",
       "      <td>Ray</td>\n",
       "      <td>Morley</td>\n",
       "      <td>18</td>\n",
       "      <td>68.0</td>\n",
       "      <td>75.0</td>\n",
       "    </tr>\n",
       "    <tr>\n",
       "      <th>1</th>\n",
       "      <td>Melvin</td>\n",
       "      <td>Scott</td>\n",
       "      <td>24</td>\n",
       "      <td>77.0</td>\n",
       "      <td>83.0</td>\n",
       "    </tr>\n",
       "    <tr>\n",
       "      <th>2</th>\n",
       "      <td>Amirah</td>\n",
       "      <td>Haley</td>\n",
       "      <td>22</td>\n",
       "      <td>92.0</td>\n",
       "      <td>67.0</td>\n",
       "    </tr>\n",
       "    <tr>\n",
       "      <th>3</th>\n",
       "      <td>Gerard</td>\n",
       "      <td>Mills</td>\n",
       "      <td>19</td>\n",
       "      <td>78.0</td>\n",
       "      <td>72.0</td>\n",
       "    </tr>\n",
       "    <tr>\n",
       "      <th>4</th>\n",
       "      <td>Amy</td>\n",
       "      <td>Grimes</td>\n",
       "      <td>23</td>\n",
       "      <td>91.0</td>\n",
       "      <td>81.0</td>\n",
       "    </tr>\n",
       "  </tbody>\n",
       "</table>\n",
       "</div>"
      ],
      "text/plain": [
       "  first_name last_name  age  math_score  french_score\n",
       "0        Ray    Morley   18        68.0          75.0\n",
       "1     Melvin     Scott   24        77.0          83.0\n",
       "2     Amirah     Haley   22        92.0          67.0\n",
       "3     Gerard     Mills   19        78.0          72.0\n",
       "4        Amy    Grimes   23        91.0          81.0"
      ]
     },
     "execution_count": 39,
     "metadata": {},
     "output_type": "execute_result"
    }
   ],
   "source": [
    "exam_df"
   ]
  },
  {
   "cell_type": "code",
   "execution_count": 40,
   "id": "86241975-1171-451d-a942-d9a047d6b6e9",
   "metadata": {},
   "outputs": [
    {
     "data": {
      "text/plain": [
       "math_score      float64\n",
       "french_score    float64\n",
       "dtype: object"
      ]
     },
     "execution_count": 40,
     "metadata": {},
     "output_type": "execute_result"
    }
   ],
   "source": [
    "exam_df[['math_score','french_score']].dtypes"
   ]
  },
  {
   "cell_type": "raw",
   "id": "e2468542-0629-437f-9097-47b58ed4653b",
   "metadata": {},
   "source": [
    "Let's see what happens with the \"thousands\" parameter:"
   ]
  },
  {
   "cell_type": "code",
   "execution_count": 41,
   "id": "55c6d1af-2485-4db4-9179-2e9682d79e50",
   "metadata": {},
   "outputs": [
    {
     "data": {
      "text/html": [
       "<div>\n",
       "<style scoped>\n",
       "    .dataframe tbody tr th:only-of-type {\n",
       "        vertical-align: middle;\n",
       "    }\n",
       "\n",
       "    .dataframe tbody tr th {\n",
       "        vertical-align: top;\n",
       "    }\n",
       "\n",
       "    .dataframe thead th {\n",
       "        text-align: right;\n",
       "    }\n",
       "</style>\n",
       "<table border=\"1\" class=\"dataframe\">\n",
       "  <thead>\n",
       "    <tr style=\"text-align: right;\">\n",
       "      <th></th>\n",
       "      <th>first_name</th>\n",
       "      <th>last_name</th>\n",
       "      <th>age</th>\n",
       "      <th>math_score</th>\n",
       "      <th>french_score</th>\n",
       "    </tr>\n",
       "  </thead>\n",
       "  <tbody>\n",
       "    <tr>\n",
       "      <th>0</th>\n",
       "      <td>Ray</td>\n",
       "      <td>Morley</td>\n",
       "      <td>18</td>\n",
       "      <td>68000</td>\n",
       "      <td>75000</td>\n",
       "    </tr>\n",
       "    <tr>\n",
       "      <th>1</th>\n",
       "      <td>Melvin</td>\n",
       "      <td>Scott</td>\n",
       "      <td>24</td>\n",
       "      <td>77</td>\n",
       "      <td>83</td>\n",
       "    </tr>\n",
       "    <tr>\n",
       "      <th>2</th>\n",
       "      <td>Amirah</td>\n",
       "      <td>Haley</td>\n",
       "      <td>22</td>\n",
       "      <td>92</td>\n",
       "      <td>67</td>\n",
       "    </tr>\n",
       "    <tr>\n",
       "      <th>3</th>\n",
       "      <td>Gerard</td>\n",
       "      <td>Mills</td>\n",
       "      <td>19</td>\n",
       "      <td>78000</td>\n",
       "      <td>72</td>\n",
       "    </tr>\n",
       "    <tr>\n",
       "      <th>4</th>\n",
       "      <td>Amy</td>\n",
       "      <td>Grimes</td>\n",
       "      <td>23</td>\n",
       "      <td>91</td>\n",
       "      <td>81</td>\n",
       "    </tr>\n",
       "  </tbody>\n",
       "</table>\n",
       "</div>"
      ],
      "text/plain": [
       "  first_name last_name  age  math_score  french_score\n",
       "0        Ray    Morley   18       68000         75000\n",
       "1     Melvin     Scott   24          77            83\n",
       "2     Amirah     Haley   22          92            67\n",
       "3     Gerard     Mills   19       78000            72\n",
       "4        Amy    Grimes   23          91            81"
      ]
     },
     "execution_count": 41,
     "metadata": {},
     "output_type": "execute_result"
    }
   ],
   "source": [
    "pd.read_csv('exam_review.csv',sep='>',thousands=',')"
   ]
  },
  {
   "cell_type": "markdown",
   "id": "b379f55d-a996-43a4-97a6-ed7c5fceea85",
   "metadata": {},
   "source": [
    "## Excluding specific rows"
   ]
  },
  {
   "cell_type": "raw",
   "id": "92c2da55-e765-4780-a741-c9f0657a16b4",
   "metadata": {},
   "source": [
    "We can use the \"skiprows\" to :"
   ]
  },
  {
   "cell_type": "raw",
   "id": "2c408dab-46c0-47c9-966d-f16be870db38",
   "metadata": {},
   "source": [
    "# Exclude reading specific number of rows from the beginning of the file, by passing an integer arguments.This removes the header too.    "
   ]
  },
  {
   "cell_type": "raw",
   "id": "f97b2e7e-6840-4b77-8ac3-f5c7344d99e0",
   "metadata": {},
   "source": [
    "Skip reading specific row indicates from a file, by passing a list containing row indicates to skip.  "
   ]
  },
  {
   "cell_type": "code",
   "execution_count": 42,
   "id": "272a233b-7b33-4864-9214-17d263f1d8cd",
   "metadata": {},
   "outputs": [],
   "source": [
    "exam_df=pd.read_csv('exam_review.csv',sep='>',decimal=',')"
   ]
  },
  {
   "cell_type": "code",
   "execution_count": 43,
   "id": "c56ffa9f-0cb1-4e9b-a698-fbbf942610c0",
   "metadata": {},
   "outputs": [
    {
     "data": {
      "text/html": [
       "<div>\n",
       "<style scoped>\n",
       "    .dataframe tbody tr th:only-of-type {\n",
       "        vertical-align: middle;\n",
       "    }\n",
       "\n",
       "    .dataframe tbody tr th {\n",
       "        vertical-align: top;\n",
       "    }\n",
       "\n",
       "    .dataframe thead th {\n",
       "        text-align: right;\n",
       "    }\n",
       "</style>\n",
       "<table border=\"1\" class=\"dataframe\">\n",
       "  <thead>\n",
       "    <tr style=\"text-align: right;\">\n",
       "      <th></th>\n",
       "      <th>first_name</th>\n",
       "      <th>last_name</th>\n",
       "      <th>age</th>\n",
       "      <th>math_score</th>\n",
       "      <th>french_score</th>\n",
       "    </tr>\n",
       "  </thead>\n",
       "  <tbody>\n",
       "    <tr>\n",
       "      <th>0</th>\n",
       "      <td>Ray</td>\n",
       "      <td>Morley</td>\n",
       "      <td>18</td>\n",
       "      <td>68.0</td>\n",
       "      <td>75.0</td>\n",
       "    </tr>\n",
       "    <tr>\n",
       "      <th>1</th>\n",
       "      <td>Melvin</td>\n",
       "      <td>Scott</td>\n",
       "      <td>24</td>\n",
       "      <td>77.0</td>\n",
       "      <td>83.0</td>\n",
       "    </tr>\n",
       "    <tr>\n",
       "      <th>2</th>\n",
       "      <td>Amirah</td>\n",
       "      <td>Haley</td>\n",
       "      <td>22</td>\n",
       "      <td>92.0</td>\n",
       "      <td>67.0</td>\n",
       "    </tr>\n",
       "    <tr>\n",
       "      <th>3</th>\n",
       "      <td>Gerard</td>\n",
       "      <td>Mills</td>\n",
       "      <td>19</td>\n",
       "      <td>78.0</td>\n",
       "      <td>72.0</td>\n",
       "    </tr>\n",
       "    <tr>\n",
       "      <th>4</th>\n",
       "      <td>Amy</td>\n",
       "      <td>Grimes</td>\n",
       "      <td>23</td>\n",
       "      <td>91.0</td>\n",
       "      <td>81.0</td>\n",
       "    </tr>\n",
       "  </tbody>\n",
       "</table>\n",
       "</div>"
      ],
      "text/plain": [
       "  first_name last_name  age  math_score  french_score\n",
       "0        Ray    Morley   18        68.0          75.0\n",
       "1     Melvin     Scott   24        77.0          83.0\n",
       "2     Amirah     Haley   22        92.0          67.0\n",
       "3     Gerard     Mills   19        78.0          72.0\n",
       "4        Amy    Grimes   23        91.0          81.0"
      ]
     },
     "execution_count": 43,
     "metadata": {},
     "output_type": "execute_result"
    }
   ],
   "source": [
    "exam_df"
   ]
  },
  {
   "cell_type": "raw",
   "id": "c8b07367-d7bc-4f98-b73b-a7d63d3f2cb9",
   "metadata": {},
   "source": [
    "To skip reading the first 2 rows from this file, we can use \"skiprows=2\":"
   ]
  },
  {
   "cell_type": "code",
   "execution_count": 44,
   "id": "a1be2d7b-efcf-402a-9e2c-a5b539795c2f",
   "metadata": {},
   "outputs": [
    {
     "data": {
      "text/html": [
       "<div>\n",
       "<style scoped>\n",
       "    .dataframe tbody tr th:only-of-type {\n",
       "        vertical-align: middle;\n",
       "    }\n",
       "\n",
       "    .dataframe tbody tr th {\n",
       "        vertical-align: top;\n",
       "    }\n",
       "\n",
       "    .dataframe thead th {\n",
       "        text-align: right;\n",
       "    }\n",
       "</style>\n",
       "<table border=\"1\" class=\"dataframe\">\n",
       "  <thead>\n",
       "    <tr style=\"text-align: right;\">\n",
       "      <th></th>\n",
       "      <th>Melvin</th>\n",
       "      <th>Scott</th>\n",
       "      <th>24</th>\n",
       "      <th>77</th>\n",
       "      <th>83</th>\n",
       "    </tr>\n",
       "  </thead>\n",
       "  <tbody>\n",
       "    <tr>\n",
       "      <th>0</th>\n",
       "      <td>Amirah</td>\n",
       "      <td>Haley</td>\n",
       "      <td>22</td>\n",
       "      <td>92</td>\n",
       "      <td>67</td>\n",
       "    </tr>\n",
       "    <tr>\n",
       "      <th>1</th>\n",
       "      <td>Gerard</td>\n",
       "      <td>Mills</td>\n",
       "      <td>19</td>\n",
       "      <td>78,000</td>\n",
       "      <td>72</td>\n",
       "    </tr>\n",
       "    <tr>\n",
       "      <th>2</th>\n",
       "      <td>Amy</td>\n",
       "      <td>Grimes</td>\n",
       "      <td>23</td>\n",
       "      <td>91</td>\n",
       "      <td>81</td>\n",
       "    </tr>\n",
       "  </tbody>\n",
       "</table>\n",
       "</div>"
      ],
      "text/plain": [
       "   Melvin   Scott  24      77  83\n",
       "0  Amirah   Haley  22      92  67\n",
       "1  Gerard   Mills  19  78,000  72\n",
       "2     Amy  Grimes  23      91  81"
      ]
     },
     "execution_count": 44,
     "metadata": {},
     "output_type": "execute_result"
    }
   ],
   "source": [
    "pd.read_csv('exam_review.csv',sep='>',skiprows=2)"
   ]
  },
  {
   "cell_type": "raw",
   "id": "cd827b4f-28df-4553-8836-8f84fe202151",
   "metadata": {},
   "source": [
    "As the header is consideered as the first row,to skip reading data rows 1 and 3,we can use \"skiprows=[1,3]\":"
   ]
  },
  {
   "cell_type": "code",
   "execution_count": 45,
   "id": "d01342f1-8ea7-4f39-8f43-1259f9fa2ab9",
   "metadata": {},
   "outputs": [],
   "source": [
    "exam_df = pd.read_csv('exam_review.csv',sep='>',decimal=',',skiprows=[1,3])"
   ]
  },
  {
   "cell_type": "code",
   "execution_count": 46,
   "id": "14a0e804-d12d-4b98-9c63-be6a8d72ebd3",
   "metadata": {},
   "outputs": [
    {
     "data": {
      "text/html": [
       "<div>\n",
       "<style scoped>\n",
       "    .dataframe tbody tr th:only-of-type {\n",
       "        vertical-align: middle;\n",
       "    }\n",
       "\n",
       "    .dataframe tbody tr th {\n",
       "        vertical-align: top;\n",
       "    }\n",
       "\n",
       "    .dataframe thead th {\n",
       "        text-align: right;\n",
       "    }\n",
       "</style>\n",
       "<table border=\"1\" class=\"dataframe\">\n",
       "  <thead>\n",
       "    <tr style=\"text-align: right;\">\n",
       "      <th></th>\n",
       "      <th>first_name</th>\n",
       "      <th>last_name</th>\n",
       "      <th>age</th>\n",
       "      <th>math_score</th>\n",
       "      <th>french_score</th>\n",
       "    </tr>\n",
       "  </thead>\n",
       "  <tbody>\n",
       "    <tr>\n",
       "      <th>0</th>\n",
       "      <td>Melvin</td>\n",
       "      <td>Scott</td>\n",
       "      <td>24</td>\n",
       "      <td>77.0</td>\n",
       "      <td>83</td>\n",
       "    </tr>\n",
       "    <tr>\n",
       "      <th>1</th>\n",
       "      <td>Gerard</td>\n",
       "      <td>Mills</td>\n",
       "      <td>19</td>\n",
       "      <td>78.0</td>\n",
       "      <td>72</td>\n",
       "    </tr>\n",
       "    <tr>\n",
       "      <th>2</th>\n",
       "      <td>Amy</td>\n",
       "      <td>Grimes</td>\n",
       "      <td>23</td>\n",
       "      <td>91.0</td>\n",
       "      <td>81</td>\n",
       "    </tr>\n",
       "  </tbody>\n",
       "</table>\n",
       "</div>"
      ],
      "text/plain": [
       "  first_name last_name  age  math_score  french_score\n",
       "0     Melvin     Scott   24        77.0            83\n",
       "1     Gerard     Mills   19        78.0            72\n",
       "2        Amy    Grimes   23        91.0            81"
      ]
     },
     "execution_count": 46,
     "metadata": {},
     "output_type": "execute_result"
    }
   ],
   "source": [
    "exam_df"
   ]
  },
  {
   "cell_type": "markdown",
   "id": "9f3966ea-07e9-4dff-bf15-e63a09702ba3",
   "metadata": {},
   "source": [
    "## Get rid of blank lines  "
   ]
  },
  {
   "cell_type": "raw",
   "id": "07613ab5-5874-4edc-88a7-ff20c1e12932",
   "metadata": {},
   "source": [
    "The \"skip_blank_lines\" parameter is set to \"True\" so blank lines are skipped while we read files."
   ]
  },
  {
   "cell_type": "raw",
   "id": "fb7a3b9e-fe99-4610-8537-ac421a005b73",
   "metadata": {},
   "source": [
    "If we set this parameter to \"False\", then evety blank line will be liaded with \"NaN\" values into the \"DataFrame\"."
   ]
  },
  {
   "cell_type": "code",
   "execution_count": 47,
   "id": "60978bea-41b8-4aa1-9604-0f78e2987267",
   "metadata": {},
   "outputs": [
    {
     "data": {
      "text/html": [
       "<div>\n",
       "<style scoped>\n",
       "    .dataframe tbody tr th:only-of-type {\n",
       "        vertical-align: middle;\n",
       "    }\n",
       "\n",
       "    .dataframe tbody tr th {\n",
       "        vertical-align: top;\n",
       "    }\n",
       "\n",
       "    .dataframe thead th {\n",
       "        text-align: right;\n",
       "    }\n",
       "</style>\n",
       "<table border=\"1\" class=\"dataframe\">\n",
       "  <thead>\n",
       "    <tr style=\"text-align: right;\">\n",
       "      <th></th>\n",
       "      <th>first_name</th>\n",
       "      <th>last_name</th>\n",
       "      <th>age</th>\n",
       "      <th>math_score</th>\n",
       "      <th>french_score</th>\n",
       "    </tr>\n",
       "  </thead>\n",
       "  <tbody>\n",
       "    <tr>\n",
       "      <th>0</th>\n",
       "      <td>Ray</td>\n",
       "      <td>Morley</td>\n",
       "      <td>18.0</td>\n",
       "      <td>68,000</td>\n",
       "      <td>75,000</td>\n",
       "    </tr>\n",
       "    <tr>\n",
       "      <th>1</th>\n",
       "      <td>Melvin</td>\n",
       "      <td>Scott</td>\n",
       "      <td>24.0</td>\n",
       "      <td>77</td>\n",
       "      <td>83</td>\n",
       "    </tr>\n",
       "    <tr>\n",
       "      <th>2</th>\n",
       "      <td>Amirah</td>\n",
       "      <td>Haley</td>\n",
       "      <td>22.0</td>\n",
       "      <td>92</td>\n",
       "      <td>67</td>\n",
       "    </tr>\n",
       "    <tr>\n",
       "      <th>3</th>\n",
       "      <td>NaN</td>\n",
       "      <td>NaN</td>\n",
       "      <td>NaN</td>\n",
       "      <td>NaN</td>\n",
       "      <td>NaN</td>\n",
       "    </tr>\n",
       "    <tr>\n",
       "      <th>4</th>\n",
       "      <td>Gerard</td>\n",
       "      <td>Mills</td>\n",
       "      <td>19.0</td>\n",
       "      <td>78,000</td>\n",
       "      <td>72</td>\n",
       "    </tr>\n",
       "    <tr>\n",
       "      <th>5</th>\n",
       "      <td>Amy</td>\n",
       "      <td>Grimes</td>\n",
       "      <td>23.0</td>\n",
       "      <td>91</td>\n",
       "      <td>81</td>\n",
       "    </tr>\n",
       "  </tbody>\n",
       "</table>\n",
       "</div>"
      ],
      "text/plain": [
       "  first_name last_name   age math_score french_score\n",
       "0        Ray    Morley  18.0     68,000       75,000\n",
       "1     Melvin     Scott  24.0         77           83\n",
       "2     Amirah     Haley  22.0         92           67\n",
       "3        NaN       NaN   NaN        NaN          NaN\n",
       "4     Gerard     Mills  19.0     78,000           72\n",
       "5        Amy    Grimes  23.0         91           81"
      ]
     },
     "execution_count": 47,
     "metadata": {},
     "output_type": "execute_result"
    }
   ],
   "source": [
    "pd.read_csv('exam_review.csv',sep='>',skip_blank_lines=False)"
   ]
  },
  {
   "cell_type": "markdown",
   "id": "882fdd1d-16d3-45a3-acc2-fa167821487c",
   "metadata": {},
   "source": [
    "## Loading specific columns"
   ]
  },
  {
   "cell_type": "raw",
   "id": "0e677b62-9332-4280-baca-acb0e8158e94",
   "metadata": {},
   "source": [
    "We cna use the \"usecols\" parameter when we want to load hust specific columns and not all of them."
   ]
  },
  {
   "cell_type": "raw",
   "id": "bf623b7f-524c-482c-a92c-91ec6e477fb9",
   "metadata": {},
   "source": [
    "Performence wise,it is better because instead of loading an entire dataframe into memory and then deleting the not required columns,we can select the columns that we'll need ,ehile loading the dataset itself."
   ]
  },
  {
   "cell_type": "raw",
   "id": "382a7063-300d-43e1-a039-4777b2d1b7aa",
   "metadata": {},
   "source": [
    "As a parameter to \"usecols\",you can pass either a list of strings corresponding to the column names or a list of integers corresponding to column index."
   ]
  },
  {
   "cell_type": "code",
   "execution_count": 48,
   "id": "e6227738-2a29-4bda-b608-fde037efd1ba",
   "metadata": {},
   "outputs": [
    {
     "data": {
      "text/html": [
       "<div>\n",
       "<style scoped>\n",
       "    .dataframe tbody tr th:only-of-type {\n",
       "        vertical-align: middle;\n",
       "    }\n",
       "\n",
       "    .dataframe tbody tr th {\n",
       "        vertical-align: top;\n",
       "    }\n",
       "\n",
       "    .dataframe thead th {\n",
       "        text-align: right;\n",
       "    }\n",
       "</style>\n",
       "<table border=\"1\" class=\"dataframe\">\n",
       "  <thead>\n",
       "    <tr style=\"text-align: right;\">\n",
       "      <th></th>\n",
       "      <th>first_name</th>\n",
       "      <th>last_name</th>\n",
       "      <th>age</th>\n",
       "    </tr>\n",
       "  </thead>\n",
       "  <tbody>\n",
       "    <tr>\n",
       "      <th>0</th>\n",
       "      <td>Ray</td>\n",
       "      <td>Morley</td>\n",
       "      <td>18</td>\n",
       "    </tr>\n",
       "    <tr>\n",
       "      <th>1</th>\n",
       "      <td>Melvin</td>\n",
       "      <td>Scott</td>\n",
       "      <td>24</td>\n",
       "    </tr>\n",
       "    <tr>\n",
       "      <th>2</th>\n",
       "      <td>Amirah</td>\n",
       "      <td>Haley</td>\n",
       "      <td>22</td>\n",
       "    </tr>\n",
       "    <tr>\n",
       "      <th>3</th>\n",
       "      <td>Gerard</td>\n",
       "      <td>Mills</td>\n",
       "      <td>19</td>\n",
       "    </tr>\n",
       "    <tr>\n",
       "      <th>4</th>\n",
       "      <td>Amy</td>\n",
       "      <td>Grimes</td>\n",
       "      <td>23</td>\n",
       "    </tr>\n",
       "  </tbody>\n",
       "</table>\n",
       "</div>"
      ],
      "text/plain": [
       "  first_name last_name  age\n",
       "0        Ray    Morley   18\n",
       "1     Melvin     Scott   24\n",
       "2     Amirah     Haley   22\n",
       "3     Gerard     Mills   19\n",
       "4        Amy    Grimes   23"
      ]
     },
     "execution_count": 48,
     "metadata": {},
     "output_type": "execute_result"
    }
   ],
   "source": [
    "pd.read_csv('exam_review.csv',usecols=['first_name','last_name','age'],sep='>')"
   ]
  },
  {
   "cell_type": "raw",
   "id": "40c9b5da-785a-4942-b4cf-189ed97a88de",
   "metadata": {},
   "source": [
    "Or using just the column position:"
   ]
  },
  {
   "cell_type": "code",
   "execution_count": 49,
   "id": "3a80d173-71f7-4269-b232-4b3679e728ae",
   "metadata": {},
   "outputs": [
    {
     "data": {
      "text/html": [
       "<div>\n",
       "<style scoped>\n",
       "    .dataframe tbody tr th:only-of-type {\n",
       "        vertical-align: middle;\n",
       "    }\n",
       "\n",
       "    .dataframe tbody tr th {\n",
       "        vertical-align: top;\n",
       "    }\n",
       "\n",
       "    .dataframe thead th {\n",
       "        text-align: right;\n",
       "    }\n",
       "</style>\n",
       "<table border=\"1\" class=\"dataframe\">\n",
       "  <thead>\n",
       "    <tr style=\"text-align: right;\">\n",
       "      <th></th>\n",
       "      <th>first_name</th>\n",
       "      <th>last_name</th>\n",
       "      <th>age</th>\n",
       "    </tr>\n",
       "  </thead>\n",
       "  <tbody>\n",
       "    <tr>\n",
       "      <th>0</th>\n",
       "      <td>Ray</td>\n",
       "      <td>Morley</td>\n",
       "      <td>18</td>\n",
       "    </tr>\n",
       "    <tr>\n",
       "      <th>1</th>\n",
       "      <td>Melvin</td>\n",
       "      <td>Scott</td>\n",
       "      <td>24</td>\n",
       "    </tr>\n",
       "    <tr>\n",
       "      <th>2</th>\n",
       "      <td>Amirah</td>\n",
       "      <td>Haley</td>\n",
       "      <td>22</td>\n",
       "    </tr>\n",
       "    <tr>\n",
       "      <th>3</th>\n",
       "      <td>Gerard</td>\n",
       "      <td>Mills</td>\n",
       "      <td>19</td>\n",
       "    </tr>\n",
       "    <tr>\n",
       "      <th>4</th>\n",
       "      <td>Amy</td>\n",
       "      <td>Grimes</td>\n",
       "      <td>23</td>\n",
       "    </tr>\n",
       "  </tbody>\n",
       "</table>\n",
       "</div>"
      ],
      "text/plain": [
       "  first_name last_name  age\n",
       "0        Ray    Morley   18\n",
       "1     Melvin     Scott   24\n",
       "2     Amirah     Haley   22\n",
       "3     Gerard     Mills   19\n",
       "4        Amy    Grimes   23"
      ]
     },
     "execution_count": 49,
     "metadata": {},
     "output_type": "execute_result"
    }
   ],
   "source": [
    "pd.read_csv('exam_review.csv',usecols=[0,1,2],sep='>')"
   ]
  },
  {
   "cell_type": "markdown",
   "id": "e1c21489-beb1-4aba-b1eb-63b595a138a1",
   "metadata": {},
   "source": [
    "## Using a \"Series\" insted of \"DataFrame\""
   ]
  },
  {
   "cell_type": "raw",
   "id": "5d2cf37b-27ce-4621-8ea3-7dab3b033c46",
   "metadata": {},
   "source": [
    "If the parsed data only contains one column then we can return a Series by setting the \"squeeze\" parameter to \"True\"."
   ]
  },
  {
   "cell_type": "code",
   "execution_count": 50,
   "id": "117bf38b-8fde-410e-b495-7ef28e29c0b6",
   "metadata": {},
   "outputs": [],
   "source": [
    "exam_test_1=pd.read_csv('exam_review.csv',sep='>',usecols=['last_name'])"
   ]
  },
  {
   "cell_type": "code",
   "execution_count": 51,
   "id": "6b3c2b1e-8c77-42be-bba5-a311d9ba89a3",
   "metadata": {},
   "outputs": [
    {
     "data": {
      "text/plain": [
       "pandas.core.frame.DataFrame"
      ]
     },
     "execution_count": 51,
     "metadata": {},
     "output_type": "execute_result"
    }
   ],
   "source": [
    "type(exam_test_1)"
   ]
  },
  {
   "cell_type": "code",
   "execution_count": 52,
   "id": "cf1ed968-975a-41c7-93f7-92df3fd2f80f",
   "metadata": {},
   "outputs": [],
   "source": [
    "exam_test_2 = pd.read_csv('exam_review.csv',\n",
    "                           sep='>',\n",
    "                          usecols=['last_name'],)"
   ]
  },
  {
   "cell_type": "code",
   "execution_count": 53,
   "id": "8c3bf6fd-64c0-499e-be54-6cc5088986ae",
   "metadata": {},
   "outputs": [
    {
     "data": {
      "text/plain": [
       "pandas.core.frame.DataFrame"
      ]
     },
     "execution_count": 53,
     "metadata": {},
     "output_type": "execute_result"
    }
   ],
   "source": [
    "type(exam_test_2)"
   ]
  },
  {
   "cell_type": "markdown",
   "id": "7dc2f90a-e55a-4494-b035-aa4e271d0757",
   "metadata": {},
   "source": [
    "## Save to CSV file"
   ]
  },
  {
   "cell_type": "code",
   "execution_count": 54,
   "id": "8e6f0fbe-4744-4d74-bbcc-e7d32e8dad98",
   "metadata": {},
   "outputs": [
    {
     "data": {
      "text/html": [
       "<div>\n",
       "<style scoped>\n",
       "    .dataframe tbody tr th:only-of-type {\n",
       "        vertical-align: middle;\n",
       "    }\n",
       "\n",
       "    .dataframe tbody tr th {\n",
       "        vertical-align: top;\n",
       "    }\n",
       "\n",
       "    .dataframe thead th {\n",
       "        text-align: right;\n",
       "    }\n",
       "</style>\n",
       "<table border=\"1\" class=\"dataframe\">\n",
       "  <thead>\n",
       "    <tr style=\"text-align: right;\">\n",
       "      <th></th>\n",
       "      <th>first_name</th>\n",
       "      <th>last_name</th>\n",
       "      <th>age</th>\n",
       "      <th>math_score</th>\n",
       "      <th>french_score</th>\n",
       "    </tr>\n",
       "  </thead>\n",
       "  <tbody>\n",
       "    <tr>\n",
       "      <th>0</th>\n",
       "      <td>Melvin</td>\n",
       "      <td>Scott</td>\n",
       "      <td>24</td>\n",
       "      <td>77.0</td>\n",
       "      <td>83</td>\n",
       "    </tr>\n",
       "    <tr>\n",
       "      <th>1</th>\n",
       "      <td>Gerard</td>\n",
       "      <td>Mills</td>\n",
       "      <td>19</td>\n",
       "      <td>78.0</td>\n",
       "      <td>72</td>\n",
       "    </tr>\n",
       "    <tr>\n",
       "      <th>2</th>\n",
       "      <td>Amy</td>\n",
       "      <td>Grimes</td>\n",
       "      <td>23</td>\n",
       "      <td>91.0</td>\n",
       "      <td>81</td>\n",
       "    </tr>\n",
       "  </tbody>\n",
       "</table>\n",
       "</div>"
      ],
      "text/plain": [
       "  first_name last_name  age  math_score  french_score\n",
       "0     Melvin     Scott   24        77.0            83\n",
       "1     Gerard     Mills   19        78.0            72\n",
       "2        Amy    Grimes   23        91.0            81"
      ]
     },
     "execution_count": 54,
     "metadata": {},
     "output_type": "execute_result"
    }
   ],
   "source": [
    "exam_df"
   ]
  },
  {
   "cell_type": "raw",
   "id": "b37f1d01-3b57-465b-aff4-3b4166b0ccdb",
   "metadata": {},
   "source": [
    "We can simply generate a CSV string from our \"DataFrame\":"
   ]
  },
  {
   "cell_type": "code",
   "execution_count": 55,
   "id": "6c383c0d-c98c-4050-a96b-7d9b7cc462c0",
   "metadata": {},
   "outputs": [
    {
     "data": {
      "text/plain": [
       "',first_name,last_name,age,math_score,french_score\\r\\n0,Melvin,Scott,24,77.0,83\\r\\n1,Gerard,Mills,19,78.0,72\\r\\n2,Amy,Grimes,23,91.0,81\\r\\n'"
      ]
     },
     "execution_count": 55,
     "metadata": {},
     "output_type": "execute_result"
    }
   ],
   "source": [
    "exam_df.to_csv()"
   ]
  },
  {
   "cell_type": "raw",
   "id": "ad08bad7-5bdc-4311-aab8-21bd6db2ebac",
   "metadata": {},
   "source": [
    "Or simply a path where we want our generated CSV to be saved:"
   ]
  },
  {
   "cell_type": "code",
   "execution_count": 56,
   "id": "4d5a8aa2-78d9-4f08-8dd5-615f29cc0bab",
   "metadata": {},
   "outputs": [],
   "source": [
    "exam_df.to_csv('out.csv')"
   ]
  },
  {
   "cell_type": "code",
   "execution_count": 57,
   "id": "2d3452d7-5317-42a4-838d-19ac7ab9c586",
   "metadata": {},
   "outputs": [
    {
     "data": {
      "text/html": [
       "<div>\n",
       "<style scoped>\n",
       "    .dataframe tbody tr th:only-of-type {\n",
       "        vertical-align: middle;\n",
       "    }\n",
       "\n",
       "    .dataframe tbody tr th {\n",
       "        vertical-align: top;\n",
       "    }\n",
       "\n",
       "    .dataframe thead th {\n",
       "        text-align: right;\n",
       "    }\n",
       "</style>\n",
       "<table border=\"1\" class=\"dataframe\">\n",
       "  <thead>\n",
       "    <tr style=\"text-align: right;\">\n",
       "      <th></th>\n",
       "      <th>Unnamed: 0</th>\n",
       "      <th>first_name</th>\n",
       "      <th>last_name</th>\n",
       "      <th>age</th>\n",
       "      <th>math_score</th>\n",
       "      <th>french_score</th>\n",
       "    </tr>\n",
       "  </thead>\n",
       "  <tbody>\n",
       "    <tr>\n",
       "      <th>0</th>\n",
       "      <td>0</td>\n",
       "      <td>Melvin</td>\n",
       "      <td>Scott</td>\n",
       "      <td>24</td>\n",
       "      <td>77.0</td>\n",
       "      <td>83</td>\n",
       "    </tr>\n",
       "    <tr>\n",
       "      <th>1</th>\n",
       "      <td>1</td>\n",
       "      <td>Gerard</td>\n",
       "      <td>Mills</td>\n",
       "      <td>19</td>\n",
       "      <td>78.0</td>\n",
       "      <td>72</td>\n",
       "    </tr>\n",
       "    <tr>\n",
       "      <th>2</th>\n",
       "      <td>2</td>\n",
       "      <td>Amy</td>\n",
       "      <td>Grimes</td>\n",
       "      <td>23</td>\n",
       "      <td>91.0</td>\n",
       "      <td>81</td>\n",
       "    </tr>\n",
       "  </tbody>\n",
       "</table>\n",
       "</div>"
      ],
      "text/plain": [
       "   Unnamed: 0 first_name last_name  age  math_score  french_score\n",
       "0           0     Melvin     Scott   24        77.0            83\n",
       "1           1     Gerard     Mills   19        78.0            72\n",
       "2           2        Amy    Grimes   23        91.0            81"
      ]
     },
     "execution_count": 57,
     "metadata": {},
     "output_type": "execute_result"
    }
   ],
   "source": [
    "pd.read_csv('out.csv')"
   ]
  },
  {
   "cell_type": "code",
   "execution_count": 58,
   "id": "21fde570-8f79-4784-a4c0-d33559b8918a",
   "metadata": {},
   "outputs": [],
   "source": [
    "exam_df.to_csv('out.csv',index=None)"
   ]
  },
  {
   "cell_type": "code",
   "execution_count": 59,
   "id": "dbe50ec8-c149-4670-acd5-4bbe80092eae",
   "metadata": {},
   "outputs": [
    {
     "data": {
      "text/html": [
       "<div>\n",
       "<style scoped>\n",
       "    .dataframe tbody tr th:only-of-type {\n",
       "        vertical-align: middle;\n",
       "    }\n",
       "\n",
       "    .dataframe tbody tr th {\n",
       "        vertical-align: top;\n",
       "    }\n",
       "\n",
       "    .dataframe thead th {\n",
       "        text-align: right;\n",
       "    }\n",
       "</style>\n",
       "<table border=\"1\" class=\"dataframe\">\n",
       "  <thead>\n",
       "    <tr style=\"text-align: right;\">\n",
       "      <th></th>\n",
       "      <th>first_name</th>\n",
       "      <th>last_name</th>\n",
       "      <th>age</th>\n",
       "      <th>math_score</th>\n",
       "      <th>french_score</th>\n",
       "    </tr>\n",
       "  </thead>\n",
       "  <tbody>\n",
       "    <tr>\n",
       "      <th>0</th>\n",
       "      <td>Melvin</td>\n",
       "      <td>Scott</td>\n",
       "      <td>24</td>\n",
       "      <td>77.0</td>\n",
       "      <td>83</td>\n",
       "    </tr>\n",
       "    <tr>\n",
       "      <th>1</th>\n",
       "      <td>Gerard</td>\n",
       "      <td>Mills</td>\n",
       "      <td>19</td>\n",
       "      <td>78.0</td>\n",
       "      <td>72</td>\n",
       "    </tr>\n",
       "    <tr>\n",
       "      <th>2</th>\n",
       "      <td>Amy</td>\n",
       "      <td>Grimes</td>\n",
       "      <td>23</td>\n",
       "      <td>91.0</td>\n",
       "      <td>81</td>\n",
       "    </tr>\n",
       "  </tbody>\n",
       "</table>\n",
       "</div>"
      ],
      "text/plain": [
       "  first_name last_name  age  math_score  french_score\n",
       "0     Melvin     Scott   24        77.0            83\n",
       "1     Gerard     Mills   19        78.0            72\n",
       "2        Amy    Grimes   23        91.0            81"
      ]
     },
     "execution_count": 59,
     "metadata": {},
     "output_type": "execute_result"
    }
   ],
   "source": [
    "pd.read_csv('out.csv')"
   ]
  }
 ],
 "metadata": {
  "kernelspec": {
   "display_name": "Python 3 (ipykernel)",
   "language": "python",
   "name": "python3"
  },
  "language_info": {
   "codemirror_mode": {
    "name": "ipython",
    "version": 3
   },
   "file_extension": ".py",
   "mimetype": "text/x-python",
   "name": "python",
   "nbconvert_exporter": "python",
   "pygments_lexer": "ipython3",
   "version": "3.11.2"
  }
 },
 "nbformat": 4,
 "nbformat_minor": 5
}
